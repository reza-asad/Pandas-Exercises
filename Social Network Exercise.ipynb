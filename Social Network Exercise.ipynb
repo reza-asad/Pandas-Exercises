{
 "cells": [
  {
   "cell_type": "code",
   "execution_count": 1,
   "metadata": {
    "collapsed": true
   },
   "outputs": [],
   "source": [
    "import pandas as pd\n",
    "import numpy as np"
   ]
  },
  {
   "cell_type": "code",
   "execution_count": 160,
   "metadata": {
    "collapsed": false
   },
   "outputs": [],
   "source": [
    "# Create the frames\n",
    "Highschooler = pd.DataFrame({\n",
    "        'ID':[1510,1689,1381,1709, 1101, 1782, 1468,\n",
    "              1641,1247, 1316,1911, 1501,1304,1025,\n",
    "              1934,1661],\n",
    "        'name':['Jordan', 'Gabriel', 'Tiffany', \n",
    "                'Cassandra','Haley', 'Andrew',\n",
    "                'Kris', 'Brittany', 'Alexis',\n",
    "                'Austin', 'Gabriel', 'Jessica',\n",
    "                'Jordan', 'John', 'Kyle', 'Logan'],\n",
    "        'grade':[9, 9, 9, 9, 10, 10, 10, 10, 11,\n",
    "                 11, 11, 11, 12, 12, 12, 12]\n",
    "    })\n",
    "Friend = pd.DataFrame({\n",
    "        'ID1':[1510, 1510, 1689, 1381, 1709, 1689,\n",
    "               1782, 1782, 1782, 1468, 1468, 1101,\n",
    "               1247, 1247, 1911, 1501, 1316, 1934,\n",
    "               1304, 1661, 1381, 1689, 1709, 1247, \n",
    "               1247, 1782, 1468, 1316, 1304, 1101, \n",
    "               1641, 1641, 1911, 1501, 1501, 1934, \n",
    "               1934, 1304, 1661, 1025],\n",
    "        'ID2':[1381, 1689, 1709, 1247, 1247, 1782,\n",
    "               1468, 1316, 1304, 1101, 1641, 1641,\n",
    "               1911, 1501, 1501, 1934, 1934, 1304,\n",
    "               1661, 1025, 1510, 1510, 1689, 1381, \n",
    "               1709, 1689, 1782, 1782, 1782, 1468, \n",
    "               1468, 1101, 1247, 1247, 1911, 1501, \n",
    "               1316, 1934, 1304, 1661, ]\n",
    "    })\n",
    "Likes = pd.DataFrame({\n",
    "        'ID1':[1689, 1709, 1782, 1911, 1247, 1641, \n",
    "               1316, 1501, 1934, 1025],\n",
    "        'ID2':[1709, 1689, 1709, 1247, 1468, 1468, \n",
    "               1304, 1934, 1501, 1101]\n",
    "    })"
   ]
  },
  {
   "cell_type": "code",
   "execution_count": 132,
   "metadata": {
    "collapsed": false
   },
   "outputs": [
    {
     "data": {
      "text/html": [
       "<div>\n",
       "<table border=\"1\" class=\"dataframe\">\n",
       "  <thead>\n",
       "    <tr style=\"text-align: right;\">\n",
       "      <th></th>\n",
       "      <th>name</th>\n",
       "    </tr>\n",
       "  </thead>\n",
       "  <tbody>\n",
       "    <tr>\n",
       "      <th>0</th>\n",
       "      <td>Cassandra</td>\n",
       "    </tr>\n",
       "    <tr>\n",
       "      <th>1</th>\n",
       "      <td>Andrew</td>\n",
       "    </tr>\n",
       "    <tr>\n",
       "      <th>2</th>\n",
       "      <td>Jordan</td>\n",
       "    </tr>\n",
       "    <tr>\n",
       "      <th>3</th>\n",
       "      <td>Jessica</td>\n",
       "    </tr>\n",
       "    <tr>\n",
       "      <th>4</th>\n",
       "      <td>Alexis</td>\n",
       "    </tr>\n",
       "  </tbody>\n",
       "</table>\n",
       "</div>"
      ],
      "text/plain": [
       "        name\n",
       "0  Cassandra\n",
       "1     Andrew\n",
       "2     Jordan\n",
       "3    Jessica\n",
       "4     Alexis"
      ]
     },
     "execution_count": 132,
     "metadata": {},
     "output_type": "execute_result"
    }
   ],
   "source": [
    "# Find the names of all students who are friends with someone\n",
    "# named Gabriel. \n",
    "gabriels = Highschooler[Highschooler['name']=='Gabriel'][['ID']]\n",
    "gabriels_friends = gabriels.merge(Friend, left_on= 'ID', right_on='ID1')[['ID2']]\\\n",
    "                           .merge(Highschooler[['ID','name']], left_on='ID2', right_on='ID')\\\n",
    "                           .drop_duplicates()[['name']]\n",
    "gabriels_friends"
   ]
  },
  {
   "cell_type": "code",
   "execution_count": 133,
   "metadata": {
    "collapsed": false
   },
   "outputs": [
    {
     "data": {
      "text/html": [
       "<div>\n",
       "<table border=\"1\" class=\"dataframe\">\n",
       "  <thead>\n",
       "    <tr style=\"text-align: right;\">\n",
       "      <th></th>\n",
       "      <th>name_likes</th>\n",
       "      <th>name</th>\n",
       "      <th>grade_likes</th>\n",
       "      <th>grade</th>\n",
       "    </tr>\n",
       "  </thead>\n",
       "  <tbody>\n",
       "    <tr>\n",
       "      <th>9</th>\n",
       "      <td>John</td>\n",
       "      <td>Haley</td>\n",
       "      <td>12</td>\n",
       "      <td>10</td>\n",
       "    </tr>\n",
       "  </tbody>\n",
       "</table>\n",
       "</div>"
      ],
      "text/plain": [
       "  name_likes   name  grade_likes  grade\n",
       "9       John  Haley           12     10"
      ]
     },
     "execution_count": 133,
     "metadata": {},
     "output_type": "execute_result"
    }
   ],
   "source": [
    "# For every student who likes someone 2 or more grades\n",
    "# younger than themselves, return that student's name \n",
    "# and grade, and the name and grade of the student they\n",
    "# like. \n",
    "likes_grades = Likes.merge(Highschooler, left_on='ID1', right_on='ID')\\\n",
    "                    .drop('ID', axis=1)\\\n",
    "                    .merge(Highschooler, left_on='ID2', right_on='ID',\n",
    "                           suffixes=('_likes', ''))\\\n",
    "                    .drop('ID', axis=1)\n",
    "likes_younger_grades = likes_grades[(likes_grades['grade_likes']-likes_grades['grade']) >=2]\n",
    "out_cols = ['name_likes', 'name', 'grade_likes', 'grade']\n",
    "likes_younger_grades[out_cols]"
   ]
  },
  {
   "cell_type": "code",
   "execution_count": 134,
   "metadata": {
    "collapsed": false
   },
   "outputs": [
    {
     "data": {
      "text/html": [
       "<div>\n",
       "<table border=\"1\" class=\"dataframe\">\n",
       "  <thead>\n",
       "    <tr style=\"text-align: right;\">\n",
       "      <th></th>\n",
       "      <th>grade_first</th>\n",
       "      <th>name_first</th>\n",
       "      <th>grade_second</th>\n",
       "      <th>name_second</th>\n",
       "    </tr>\n",
       "  </thead>\n",
       "  <tbody>\n",
       "    <tr>\n",
       "      <th>0</th>\n",
       "      <td>9</td>\n",
       "      <td>Cassandra</td>\n",
       "      <td>9</td>\n",
       "      <td>Gabriel</td>\n",
       "    </tr>\n",
       "    <tr>\n",
       "      <th>1</th>\n",
       "      <td>12</td>\n",
       "      <td>Kyle</td>\n",
       "      <td>11</td>\n",
       "      <td>Jessica</td>\n",
       "    </tr>\n",
       "  </tbody>\n",
       "</table>\n",
       "</div>"
      ],
      "text/plain": [
       "   grade_first name_first  grade_second name_second\n",
       "0            9  Cassandra             9     Gabriel\n",
       "1           12       Kyle            11     Jessica"
      ]
     },
     "execution_count": 134,
     "metadata": {},
     "output_type": "execute_result"
    }
   ],
   "source": [
    "# For every pair of students who both like each other, return \n",
    "# the name and grade of both students. Include each pair only\n",
    "# once, with the two names in alphabetical order. \n",
    "mutal_like = Likes.merge(Likes, left_on='ID2', right_on='ID1', suffixes=('_first', '_second'))\n",
    "mutal_like = mutal_like[mutal_like['ID1_first'] == mutal_like['ID2_second']][['ID1_first',\n",
    "                                                                              'ID2_first']]\n",
    "mutal_like = mutal_like[mutal_like['ID1_first'] > mutal_like['ID2_first']]\n",
    "mutal_like.merge(Highschooler, left_on='ID1_first', right_on='ID')\\\n",
    "          .drop(['ID1_first','ID'], axis=1)\\\n",
    "          .merge(Highschooler, left_on='ID2_first', right_on='ID', suffixes=('_first', '_second'))\\\n",
    "          .drop(['ID2_first','ID'], axis=1)\n"
   ]
  },
  {
   "cell_type": "code",
   "execution_count": 135,
   "metadata": {
    "collapsed": false
   },
   "outputs": [
    {
     "data": {
      "text/html": [
       "<div>\n",
       "<table border=\"1\" class=\"dataframe\">\n",
       "  <thead>\n",
       "    <tr style=\"text-align: right;\">\n",
       "      <th></th>\n",
       "      <th>name</th>\n",
       "      <th>grade</th>\n",
       "    </tr>\n",
       "  </thead>\n",
       "  <tbody>\n",
       "    <tr>\n",
       "      <th>0</th>\n",
       "      <td>Jordan</td>\n",
       "      <td>9</td>\n",
       "    </tr>\n",
       "    <tr>\n",
       "      <th>1</th>\n",
       "      <td>Tiffany</td>\n",
       "      <td>9</td>\n",
       "    </tr>\n",
       "    <tr>\n",
       "      <th>6</th>\n",
       "      <td>Logan</td>\n",
       "      <td>12</td>\n",
       "    </tr>\n",
       "  </tbody>\n",
       "</table>\n",
       "</div>"
      ],
      "text/plain": [
       "      name  grade\n",
       "0   Jordan      9\n",
       "1  Tiffany      9\n",
       "6    Logan     12"
      ]
     },
     "execution_count": 135,
     "metadata": {},
     "output_type": "execute_result"
    }
   ],
   "source": [
    "# Find all students who do not appear in the Likes table \n",
    "# (as a student who likes or is liked) and return their \n",
    "# names and grades. Sort by grade, then by name within \n",
    "# each grade. \n",
    "doesnt_like = Highschooler.merge(Likes[['ID1']], how='left', left_on='ID', right_on='ID1')\n",
    "doesnt_like = doesnt_like[doesnt_like['ID1'].isnull()]\n",
    "doesnt_like = doesnt_like.merge(Likes[['ID2']], how='left', left_on='ID', right_on='ID2')\n",
    "doesnt_like = doesnt_like[doesnt_like['ID2'].isnull()]\n",
    "doesnt_like[['name','grade']].sort_values(by=['grade', 'name'])"
   ]
  },
  {
   "cell_type": "code",
   "execution_count": 136,
   "metadata": {
    "collapsed": false
   },
   "outputs": [
    {
     "data": {
      "text/html": [
       "<div>\n",
       "<table border=\"1\" class=\"dataframe\">\n",
       "  <thead>\n",
       "    <tr style=\"text-align: right;\">\n",
       "      <th></th>\n",
       "      <th>grade_first</th>\n",
       "      <th>name_first</th>\n",
       "      <th>grade_second</th>\n",
       "      <th>name_second</th>\n",
       "    </tr>\n",
       "  </thead>\n",
       "  <tbody>\n",
       "    <tr>\n",
       "      <th>0</th>\n",
       "      <td>11</td>\n",
       "      <td>Alexis</td>\n",
       "      <td>10</td>\n",
       "      <td>Kris</td>\n",
       "    </tr>\n",
       "    <tr>\n",
       "      <th>1</th>\n",
       "      <td>10</td>\n",
       "      <td>Brittany</td>\n",
       "      <td>10</td>\n",
       "      <td>Kris</td>\n",
       "    </tr>\n",
       "    <tr>\n",
       "      <th>2</th>\n",
       "      <td>11</td>\n",
       "      <td>Austin</td>\n",
       "      <td>12</td>\n",
       "      <td>Jordan</td>\n",
       "    </tr>\n",
       "    <tr>\n",
       "      <th>3</th>\n",
       "      <td>12</td>\n",
       "      <td>John</td>\n",
       "      <td>10</td>\n",
       "      <td>Haley</td>\n",
       "    </tr>\n",
       "  </tbody>\n",
       "</table>\n",
       "</div>"
      ],
      "text/plain": [
       "   grade_first name_first  grade_second name_second\n",
       "0           11     Alexis            10        Kris\n",
       "1           10   Brittany            10        Kris\n",
       "2           11     Austin            12      Jordan\n",
       "3           12       John            10       Haley"
      ]
     },
     "execution_count": 136,
     "metadata": {},
     "output_type": "execute_result"
    }
   ],
   "source": [
    "# For every situation where student A likes student B, \n",
    "# but we have no information about whom B likes \n",
    "# (that is, B does not appear as an ID1 in the Likes table),\n",
    "# return A and B's names and grades\n",
    "like_like = Likes.merge(Likes, how='left', left_on='ID2', right_on='ID1', suffixes=('_first', '_second'))\n",
    "like_like = like_like.loc[like_like['ID1_second'].isnull(), ['ID1_first','ID2_first']]\n",
    "like_like.merge(Highschooler, left_on='ID1_first', right_on='ID')\\\n",
    "         .drop(['ID', 'ID1_first'], axis=1)\\\n",
    "         .merge(Highschooler, left_on='ID2_first', right_on='ID', suffixes=('_first', '_second'))\\\n",
    "         .drop(['ID', 'ID2_first'], axis=1)"
   ]
  },
  {
   "cell_type": "code",
   "execution_count": 148,
   "metadata": {
    "collapsed": false
   },
   "outputs": [
    {
     "data": {
      "text/html": [
       "<div>\n",
       "<table border=\"1\" class=\"dataframe\">\n",
       "  <thead>\n",
       "    <tr style=\"text-align: right;\">\n",
       "      <th></th>\n",
       "      <th>grade_f1</th>\n",
       "      <th>name_f1</th>\n",
       "    </tr>\n",
       "  </thead>\n",
       "  <tbody>\n",
       "    <tr>\n",
       "      <th>19</th>\n",
       "      <td>10</td>\n",
       "      <td>Brittany</td>\n",
       "    </tr>\n",
       "    <tr>\n",
       "      <th>15</th>\n",
       "      <td>11</td>\n",
       "      <td>Gabriel</td>\n",
       "    </tr>\n",
       "    <tr>\n",
       "      <th>18</th>\n",
       "      <td>10</td>\n",
       "      <td>Haley</td>\n",
       "    </tr>\n",
       "    <tr>\n",
       "      <th>38</th>\n",
       "      <td>12</td>\n",
       "      <td>John</td>\n",
       "    </tr>\n",
       "    <tr>\n",
       "      <th>0</th>\n",
       "      <td>9</td>\n",
       "      <td>Jordan</td>\n",
       "    </tr>\n",
       "    <tr>\n",
       "      <th>8</th>\n",
       "      <td>10</td>\n",
       "      <td>Kris</td>\n",
       "    </tr>\n",
       "    <tr>\n",
       "      <th>24</th>\n",
       "      <td>12</td>\n",
       "      <td>Logan</td>\n",
       "    </tr>\n",
       "  </tbody>\n",
       "</table>\n",
       "</div>"
      ],
      "text/plain": [
       "    grade_f1   name_f1\n",
       "19        10  Brittany\n",
       "15        11   Gabriel\n",
       "18        10     Haley\n",
       "38        12      John\n",
       "0          9    Jordan\n",
       "8         10      Kris\n",
       "24        12     Logan"
      ]
     },
     "execution_count": 148,
     "metadata": {},
     "output_type": "execute_result"
    }
   ],
   "source": [
    "# Find names and grades of students who only have friends\n",
    "# in the same grade. Return the result sorted by grade, \n",
    "# then by name within each grade. \n",
    "friend_info = Friend.merge(Highschooler, left_on= 'ID1', right_on='ID')\\\n",
    "                    .drop('ID', axis=1)\\\n",
    "                    .merge(Highschooler, left_on='ID2', right_on='ID', suffixes=('_f1', '_f2'))\\\n",
    "                    .drop('ID', axis=1)\n",
    "\n",
    "\n",
    "out_cols = ['grade_f1', 'name_f1']\n",
    "def is_same_grade(g):\n",
    "    one_grade = g['grade_f2'].unique().size == 1\n",
    "    return (one_grade) and (g['grade_f1'].values[0] == g['grade_f2'].values[0])\n",
    "friend_info.groupby('ID1')\\\n",
    "           .filter(is_same_grade)\\\n",
    "           .drop_duplicates(subset='ID1')[out_cols]\\\n",
    "           .sort_values(by=['name_f1','grade_f1'])"
   ]
  },
  {
   "cell_type": "code",
   "execution_count": 149,
   "metadata": {
    "collapsed": false
   },
   "outputs": [
    {
     "data": {
      "text/html": [
       "<div>\n",
       "<table border=\"1\" class=\"dataframe\">\n",
       "  <thead>\n",
       "    <tr style=\"text-align: right;\">\n",
       "      <th></th>\n",
       "      <th>name</th>\n",
       "      <th>grade</th>\n",
       "      <th>name_ID1_likes</th>\n",
       "      <th>grade_ID1_likes</th>\n",
       "      <th>name_ID1_friends_with</th>\n",
       "      <th>grade_ID1_friends_with</th>\n",
       "    </tr>\n",
       "  </thead>\n",
       "  <tbody>\n",
       "    <tr>\n",
       "      <th>0</th>\n",
       "      <td>Andrew</td>\n",
       "      <td>10</td>\n",
       "      <td>Cassandra</td>\n",
       "      <td>9</td>\n",
       "      <td>Gabriel</td>\n",
       "      <td>9</td>\n",
       "    </tr>\n",
       "    <tr>\n",
       "      <th>1</th>\n",
       "      <td>Austin</td>\n",
       "      <td>11</td>\n",
       "      <td>Jordan</td>\n",
       "      <td>12</td>\n",
       "      <td>Kyle</td>\n",
       "      <td>12</td>\n",
       "    </tr>\n",
       "    <tr>\n",
       "      <th>2</th>\n",
       "      <td>Austin</td>\n",
       "      <td>11</td>\n",
       "      <td>Jordan</td>\n",
       "      <td>12</td>\n",
       "      <td>Andrew</td>\n",
       "      <td>10</td>\n",
       "    </tr>\n",
       "  </tbody>\n",
       "</table>\n",
       "</div>"
      ],
      "text/plain": [
       "     name  grade name_ID1_likes  grade_ID1_likes name_ID1_friends_with  \\\n",
       "0  Andrew     10      Cassandra                9               Gabriel   \n",
       "1  Austin     11         Jordan               12                  Kyle   \n",
       "2  Austin     11         Jordan               12                Andrew   \n",
       "\n",
       "   grade_ID1_friends_with  \n",
       "0                       9  \n",
       "1                      12  \n",
       "2                      10  "
      ]
     },
     "execution_count": 149,
     "metadata": {},
     "output_type": "execute_result"
    }
   ],
   "source": [
    "# For each student A who likes a student B where the two\n",
    "# are not friends, find if they have a friend C in common\n",
    "# (who can introduce them!). For all such trios, return the\n",
    "# name and grade of A, B, and C. \n",
    "friend_like = Likes.merge(Friend, on='ID1', suffixes=('_x', '_y'))\\\n",
    "                   .rename(columns=({'ID2_x':'ID1_likes', 'ID2_y':'ID1_friends_with'}))\n",
    "def not_friends(g):\n",
    "    not_friends = sum(g['ID1_friends_with'] != g['ID1_likes'])\n",
    "    return not_friends==len(g)\n",
    "friend_like = friend_like.groupby('ID1')\\\n",
    "                         .filter(not_friends)\n",
    "friend_like = friend_like.merge(Friend, left_on='ID1_likes', right_on='ID1', suffixes=('','_x'))\\\n",
    "                         .drop('ID1_x', axis=1)\\\n",
    "                         .rename(columns=({'ID2':'ID2_friends_with'}))\n",
    "friend_like = friend_like[friend_like['ID1_friends_with']==friend_like['ID2_friends_with']]\n",
    "friend_like\n",
    "friend_like = friend_like.merge(Highschooler, left_on='ID1', right_on='ID')\\\n",
    "                         .drop('ID', axis=1)\\\n",
    "                         .merge(Highschooler, left_on='ID1_likes', right_on='ID', \n",
    "                                suffixes=('','_ID1_likes'))\\\n",
    "                         .drop('ID', axis=1)\\\n",
    "                         .merge(Highschooler, left_on='ID1_friends_with', right_on='ID', \n",
    "                                suffixes=('', '_ID1_friends_with'))\n",
    "out_cols = ['name', 'grade', 'name_ID1_likes', 'grade_ID1_likes', \n",
    "            'name_ID1_friends_with', 'grade_ID1_friends_with']\n",
    "friend_like[out_cols]"
   ]
  },
  {
   "cell_type": "code",
   "execution_count": 151,
   "metadata": {
    "collapsed": false
   },
   "outputs": [
    {
     "data": {
      "text/plain": [
       "2"
      ]
     },
     "execution_count": 151,
     "metadata": {},
     "output_type": "execute_result"
    }
   ],
   "source": [
    "# Find the difference between the number of students in the \n",
    "# school and the number of different first names. \n",
    "number_students = Highschooler['ID'].notnull().sum()\n",
    "number_of_names = Highschooler['name'].unique().size\n",
    "number_students - number_of_names"
   ]
  },
  {
   "cell_type": "code",
   "execution_count": 162,
   "metadata": {
    "collapsed": false
   },
   "outputs": [
    {
     "data": {
      "text/html": [
       "<div>\n",
       "<table border=\"1\" class=\"dataframe\">\n",
       "  <thead>\n",
       "    <tr style=\"text-align: right;\">\n",
       "      <th></th>\n",
       "      <th>name</th>\n",
       "      <th>grade</th>\n",
       "    </tr>\n",
       "  </thead>\n",
       "  <tbody>\n",
       "    <tr>\n",
       "      <th>0</th>\n",
       "      <td>Cassandra</td>\n",
       "      <td>9</td>\n",
       "    </tr>\n",
       "    <tr>\n",
       "      <th>1</th>\n",
       "      <td>Kris</td>\n",
       "      <td>10</td>\n",
       "    </tr>\n",
       "  </tbody>\n",
       "</table>\n",
       "</div>"
      ],
      "text/plain": [
       "        name  grade\n",
       "0  Cassandra      9\n",
       "1       Kris     10"
      ]
     },
     "execution_count": 162,
     "metadata": {},
     "output_type": "execute_result"
    }
   ],
   "source": [
    "# Find the name and grade of all students who are liked by\n",
    "# more than one other student. \n",
    "def is_popular(g):\n",
    "    return g.loc[g['ID1'].notnull(),'ID1'].unique().size > 1\n",
    "popular = Likes.groupby('ID2')\\\n",
    "               .filter(is_popular)[['ID2']]\\\n",
    "               .drop_duplicates()\n",
    "out_cols = ['name', 'grade']\n",
    "popular.merge(Highschooler, left_on='ID2', right_on='ID')[out_cols]"
   ]
  },
  {
   "cell_type": "code",
   "execution_count": 172,
   "metadata": {
    "collapsed": false
   },
   "outputs": [
    {
     "data": {
      "text/html": [
       "<div>\n",
       "<table border=\"1\" class=\"dataframe\">\n",
       "  <thead>\n",
       "    <tr style=\"text-align: right;\">\n",
       "      <th></th>\n",
       "      <th>grade</th>\n",
       "      <th>name</th>\n",
       "      <th>grade_ID2</th>\n",
       "      <th>name_ID2</th>\n",
       "      <th>grade_ID2_likes</th>\n",
       "      <th>name_ID2_likes</th>\n",
       "    </tr>\n",
       "  </thead>\n",
       "  <tbody>\n",
       "    <tr>\n",
       "      <th>0</th>\n",
       "      <td>10</td>\n",
       "      <td>Andrew</td>\n",
       "      <td>9</td>\n",
       "      <td>Cassandra</td>\n",
       "      <td>9</td>\n",
       "      <td>Gabriel</td>\n",
       "    </tr>\n",
       "    <tr>\n",
       "      <th>1</th>\n",
       "      <td>11</td>\n",
       "      <td>Gabriel</td>\n",
       "      <td>11</td>\n",
       "      <td>Alexis</td>\n",
       "      <td>10</td>\n",
       "      <td>Kris</td>\n",
       "    </tr>\n",
       "  </tbody>\n",
       "</table>\n",
       "</div>"
      ],
      "text/plain": [
       "   grade     name  grade_ID2   name_ID2  grade_ID2_likes name_ID2_likes\n",
       "0     10   Andrew          9  Cassandra                9        Gabriel\n",
       "1     11  Gabriel         11     Alexis               10           Kris"
      ]
     },
     "execution_count": 172,
     "metadata": {},
     "output_type": "execute_result"
    }
   ],
   "source": [
    "# For every situation where student A likes student B, but\n",
    "# student B likes a different student C, return the names\n",
    "# and grades of A, B, and C.\n",
    "like_like = Likes.merge(Likes, left_on='ID2', right_on='ID1', suffixes=('', '_likes'))\\\n",
    "                 .drop('ID1_likes', axis=1)\n",
    "\n",
    "def no_mutal_like(g):\n",
    "    return (sum(g['ID1'] != g['ID2_likes']) == len(g))\n",
    "like_like = like_like.groupby(['ID1','ID2']).filter(no_mutal_like)\n",
    "like_like.merge(Highschooler, left_on='ID1', right_on='ID')\\\n",
    "         .drop('ID', axis=1)\\\n",
    "         .merge(Highschooler, left_on='ID2', right_on='ID', suffixes=('','_ID2'))\\\n",
    "         .drop('ID', axis=1)\\\n",
    "         .merge(Highschooler, left_on='ID2_likes', right_on='ID', suffixes=('', '_ID2_likes'))\\\n",
    "         .drop(['ID','ID1','ID2','ID2_likes'], axis=1)"
   ]
  },
  {
   "cell_type": "code",
   "execution_count": 178,
   "metadata": {
    "collapsed": false
   },
   "outputs": [
    {
     "data": {
      "text/html": [
       "<div>\n",
       "<table border=\"1\" class=\"dataframe\">\n",
       "  <thead>\n",
       "    <tr style=\"text-align: right;\">\n",
       "      <th></th>\n",
       "      <th>name</th>\n",
       "      <th>grade</th>\n",
       "    </tr>\n",
       "  </thead>\n",
       "  <tbody>\n",
       "    <tr>\n",
       "      <th>9</th>\n",
       "      <td>Austin</td>\n",
       "      <td>11</td>\n",
       "    </tr>\n",
       "  </tbody>\n",
       "</table>\n",
       "</div>"
      ],
      "text/plain": [
       "     name  grade\n",
       "9  Austin     11"
      ]
     },
     "execution_count": 178,
     "metadata": {},
     "output_type": "execute_result"
    }
   ],
   "source": [
    "# Find those students for whom all of their friends are in \n",
    "# different grades from themselves. Return the students' \n",
    "# names and grades. \n",
    "friend_info = Friend.merge(Highschooler, left_on='ID1', right_on='ID')\\\n",
    "                    .drop('ID', axis=1)\\\n",
    "                    .merge(Highschooler, left_on='ID2', right_on='ID', suffixes=('', '_friend'))\n",
    "out_cols = ['name', 'grade']\n",
    "def is_grade_different(g):\n",
    "    return sum(g['grade'] != g['grade_friend']) == len(g)\n",
    "friend_info.groupby('ID1')\\\n",
    "           .filter(is_grade_different)\\\n",
    "           .drop_duplicates(subset='ID1')[out_cols]"
   ]
  },
  {
   "cell_type": "code",
   "execution_count": 181,
   "metadata": {
    "collapsed": false
   },
   "outputs": [
    {
     "data": {
      "text/plain": [
       "2.5"
      ]
     },
     "execution_count": 181,
     "metadata": {},
     "output_type": "execute_result"
    }
   ],
   "source": [
    "# What is the average number of friends per student? \n",
    "# (Your result should be just one number.) \n",
    "Friend.groupby('ID1').agg({'ID2':'count'})['ID2'].mean()"
   ]
  },
  {
   "cell_type": "code",
   "execution_count": 201,
   "metadata": {
    "collapsed": false
   },
   "outputs": [
    {
     "data": {
      "text/plain": [
       "14"
      ]
     },
     "execution_count": 201,
     "metadata": {},
     "output_type": "execute_result"
    }
   ],
   "source": [
    "# Find the number of students who are either friends with \n",
    "# Cassandra or are friends of friends of Cassandra. Do not \n",
    "# count Cassandra, even though technically she is a friend\n",
    "# of a friend. \n",
    "cassandra_id = Highschooler.loc[Highschooler['name']=='Cassandra', 'ID'].values[0]\n",
    "cassandra_friends = Friend[Friend['ID1']==cassandra_id]\n",
    "friend_friend = Friend.merge(Friend, left_on='ID2', right_on='ID1', suffixes=('','_friend'))\\\n",
    "                      .drop('ID1_friend', axis=1)\n",
    "is_friend_friend = (friend_friend['ID1'] == cassandra_id) & (friend_friend['ID2_friend'] != cassandra_id)\n",
    "friend_friend = friend_friend[is_friend_friend]\n",
    "friend_friend = friend_friend.drop('ID2', axis=1)\\\n",
    "                             .rename(columns=({'ID2_friend':'ID2'}))\\\n",
    "                             .drop_duplicates()\n",
    "pd.concat([cassandra_friends, friend_friend]).drop_duplicates().size\n"
   ]
  },
  {
   "cell_type": "code",
   "execution_count": 209,
   "metadata": {
    "collapsed": false
   },
   "outputs": [
    {
     "ename": "MergeError",
     "evalue": "No common columns to perform merge on",
     "output_type": "error",
     "traceback": [
      "\u001b[0;31m---------------------------------------------------------------------------\u001b[0m",
      "\u001b[0;31mMergeError\u001b[0m                                Traceback (most recent call last)",
      "\u001b[0;32m<ipython-input-209-42c5055c810e>\u001b[0m in \u001b[0;36m<module>\u001b[0;34m()\u001b[0m\n\u001b[1;32m      5\u001b[0m \u001b[0mpopular_kids\u001b[0m \u001b[0;34m=\u001b[0m \u001b[0mfriend_count\u001b[0m\u001b[0;34m.\u001b[0m\u001b[0mloc\u001b[0m\u001b[0;34m[\u001b[0m\u001b[0mfriend_count\u001b[0m\u001b[0;34m[\u001b[0m\u001b[0;34m'friend_count'\u001b[0m\u001b[0;34m]\u001b[0m \u001b[0;34m==\u001b[0m \u001b[0mmax_friends\u001b[0m\u001b[0;34m,\u001b[0m \u001b[0;34m[\u001b[0m\u001b[0;34m'ID1'\u001b[0m\u001b[0;34m]\u001b[0m\u001b[0;34m]\u001b[0m\u001b[0;34m\u001b[0m\u001b[0m\n\u001b[1;32m      6\u001b[0m \u001b[0mpopular_kids\u001b[0m\u001b[0;34m.\u001b[0m\u001b[0mrename\u001b[0m\u001b[0;34m(\u001b[0m\u001b[0mcolumns\u001b[0m\u001b[0;34m=\u001b[0m\u001b[0;34m(\u001b[0m\u001b[0;34m{\u001b[0m\u001b[0;34m'ID1'\u001b[0m\u001b[0;34m:\u001b[0m\u001b[0;34m'ID'\u001b[0m\u001b[0;34m}\u001b[0m\u001b[0;34m)\u001b[0m\u001b[0;34m)\u001b[0m\u001b[0;34m\u001b[0m\u001b[0m\n\u001b[0;32m----> 7\u001b[0;31m \u001b[0mpopular_kids\u001b[0m\u001b[0;34m.\u001b[0m\u001b[0mmerge\u001b[0m\u001b[0;34m(\u001b[0m\u001b[0mHighschooler\u001b[0m\u001b[0;34m)\u001b[0m            \u001b[0;34m.\u001b[0m\u001b[0mdrop\u001b[0m\u001b[0;34m(\u001b[0m\u001b[0;34m'ID'\u001b[0m\u001b[0;34m,\u001b[0m\u001b[0maxis\u001b[0m\u001b[0;34m=\u001b[0m\u001b[0;36m1\u001b[0m\u001b[0;34m)\u001b[0m\u001b[0;34m\u001b[0m\u001b[0m\n\u001b[0m",
      "\u001b[0;32m/Users/reza/anaconda/lib/python2.7/site-packages/pandas/core/frame.pyc\u001b[0m in \u001b[0;36mmerge\u001b[0;34m(self, right, how, on, left_on, right_on, left_index, right_index, sort, suffixes, copy, indicator)\u001b[0m\n\u001b[1;32m   4435\u001b[0m                      \u001b[0mright_on\u001b[0m\u001b[0;34m=\u001b[0m\u001b[0mright_on\u001b[0m\u001b[0;34m,\u001b[0m \u001b[0mleft_index\u001b[0m\u001b[0;34m=\u001b[0m\u001b[0mleft_index\u001b[0m\u001b[0;34m,\u001b[0m\u001b[0;34m\u001b[0m\u001b[0m\n\u001b[1;32m   4436\u001b[0m                      \u001b[0mright_index\u001b[0m\u001b[0;34m=\u001b[0m\u001b[0mright_index\u001b[0m\u001b[0;34m,\u001b[0m \u001b[0msort\u001b[0m\u001b[0;34m=\u001b[0m\u001b[0msort\u001b[0m\u001b[0;34m,\u001b[0m \u001b[0msuffixes\u001b[0m\u001b[0;34m=\u001b[0m\u001b[0msuffixes\u001b[0m\u001b[0;34m,\u001b[0m\u001b[0;34m\u001b[0m\u001b[0m\n\u001b[0;32m-> 4437\u001b[0;31m                      copy=copy, indicator=indicator)\n\u001b[0m\u001b[1;32m   4438\u001b[0m \u001b[0;34m\u001b[0m\u001b[0m\n\u001b[1;32m   4439\u001b[0m     \u001b[0;32mdef\u001b[0m \u001b[0mround\u001b[0m\u001b[0;34m(\u001b[0m\u001b[0mself\u001b[0m\u001b[0;34m,\u001b[0m \u001b[0mdecimals\u001b[0m\u001b[0;34m=\u001b[0m\u001b[0;36m0\u001b[0m\u001b[0;34m,\u001b[0m \u001b[0;34m*\u001b[0m\u001b[0margs\u001b[0m\u001b[0;34m,\u001b[0m \u001b[0;34m**\u001b[0m\u001b[0mkwargs\u001b[0m\u001b[0;34m)\u001b[0m\u001b[0;34m:\u001b[0m\u001b[0;34m\u001b[0m\u001b[0m\n",
      "\u001b[0;32m/Users/reza/anaconda/lib/python2.7/site-packages/pandas/tools/merge.pyc\u001b[0m in \u001b[0;36mmerge\u001b[0;34m(left, right, how, on, left_on, right_on, left_index, right_index, sort, suffixes, copy, indicator)\u001b[0m\n\u001b[1;32m     36\u001b[0m                          \u001b[0mright_on\u001b[0m\u001b[0;34m=\u001b[0m\u001b[0mright_on\u001b[0m\u001b[0;34m,\u001b[0m \u001b[0mleft_index\u001b[0m\u001b[0;34m=\u001b[0m\u001b[0mleft_index\u001b[0m\u001b[0;34m,\u001b[0m\u001b[0;34m\u001b[0m\u001b[0m\n\u001b[1;32m     37\u001b[0m                          \u001b[0mright_index\u001b[0m\u001b[0;34m=\u001b[0m\u001b[0mright_index\u001b[0m\u001b[0;34m,\u001b[0m \u001b[0msort\u001b[0m\u001b[0;34m=\u001b[0m\u001b[0msort\u001b[0m\u001b[0;34m,\u001b[0m \u001b[0msuffixes\u001b[0m\u001b[0;34m=\u001b[0m\u001b[0msuffixes\u001b[0m\u001b[0;34m,\u001b[0m\u001b[0;34m\u001b[0m\u001b[0m\n\u001b[0;32m---> 38\u001b[0;31m                          copy=copy, indicator=indicator)\n\u001b[0m\u001b[1;32m     39\u001b[0m     \u001b[0;32mreturn\u001b[0m \u001b[0mop\u001b[0m\u001b[0;34m.\u001b[0m\u001b[0mget_result\u001b[0m\u001b[0;34m(\u001b[0m\u001b[0;34m)\u001b[0m\u001b[0;34m\u001b[0m\u001b[0m\n\u001b[1;32m     40\u001b[0m \u001b[0;32mif\u001b[0m \u001b[0m__debug__\u001b[0m\u001b[0;34m:\u001b[0m\u001b[0;34m\u001b[0m\u001b[0m\n",
      "\u001b[0;32m/Users/reza/anaconda/lib/python2.7/site-packages/pandas/tools/merge.pyc\u001b[0m in \u001b[0;36m__init__\u001b[0;34m(self, left, right, how, on, left_on, right_on, axis, left_index, right_index, sort, suffixes, copy, indicator)\u001b[0m\n\u001b[1;32m    208\u001b[0m         (self.left_join_keys,\n\u001b[1;32m    209\u001b[0m          \u001b[0mself\u001b[0m\u001b[0;34m.\u001b[0m\u001b[0mright_join_keys\u001b[0m\u001b[0;34m,\u001b[0m\u001b[0;34m\u001b[0m\u001b[0m\n\u001b[0;32m--> 210\u001b[0;31m          self.join_names) = self._get_merge_keys()\n\u001b[0m\u001b[1;32m    211\u001b[0m \u001b[0;34m\u001b[0m\u001b[0m\n\u001b[1;32m    212\u001b[0m     \u001b[0;32mdef\u001b[0m \u001b[0mget_result\u001b[0m\u001b[0;34m(\u001b[0m\u001b[0mself\u001b[0m\u001b[0;34m)\u001b[0m\u001b[0;34m:\u001b[0m\u001b[0;34m\u001b[0m\u001b[0m\n",
      "\u001b[0;32m/Users/reza/anaconda/lib/python2.7/site-packages/pandas/tools/merge.pyc\u001b[0m in \u001b[0;36m_get_merge_keys\u001b[0;34m(self)\u001b[0m\n\u001b[1;32m    405\u001b[0m         \u001b[0mleft_keys\u001b[0m\u001b[0;34m,\u001b[0m \u001b[0mright_keys\u001b[0m\u001b[0;34m\u001b[0m\u001b[0m\n\u001b[1;32m    406\u001b[0m         \"\"\"\n\u001b[0;32m--> 407\u001b[0;31m         \u001b[0mself\u001b[0m\u001b[0;34m.\u001b[0m\u001b[0m_validate_specification\u001b[0m\u001b[0;34m(\u001b[0m\u001b[0;34m)\u001b[0m\u001b[0;34m\u001b[0m\u001b[0m\n\u001b[0m\u001b[1;32m    408\u001b[0m \u001b[0;34m\u001b[0m\u001b[0m\n\u001b[1;32m    409\u001b[0m         \u001b[0mleft_keys\u001b[0m \u001b[0;34m=\u001b[0m \u001b[0;34m[\u001b[0m\u001b[0;34m]\u001b[0m\u001b[0;34m\u001b[0m\u001b[0m\n",
      "\u001b[0;32m/Users/reza/anaconda/lib/python2.7/site-packages/pandas/tools/merge.pyc\u001b[0m in \u001b[0;36m_validate_specification\u001b[0;34m(self)\u001b[0m\n\u001b[1;32m    497\u001b[0m                     self.right.columns)\n\u001b[1;32m    498\u001b[0m                 \u001b[0;32mif\u001b[0m \u001b[0mlen\u001b[0m\u001b[0;34m(\u001b[0m\u001b[0mcommon_cols\u001b[0m\u001b[0;34m)\u001b[0m \u001b[0;34m==\u001b[0m \u001b[0;36m0\u001b[0m\u001b[0;34m:\u001b[0m\u001b[0;34m\u001b[0m\u001b[0m\n\u001b[0;32m--> 499\u001b[0;31m                     \u001b[0;32mraise\u001b[0m \u001b[0mMergeError\u001b[0m\u001b[0;34m(\u001b[0m\u001b[0;34m'No common columns to perform merge on'\u001b[0m\u001b[0;34m)\u001b[0m\u001b[0;34m\u001b[0m\u001b[0m\n\u001b[0m\u001b[1;32m    500\u001b[0m                 \u001b[0;32mif\u001b[0m \u001b[0;32mnot\u001b[0m \u001b[0mcommon_cols\u001b[0m\u001b[0;34m.\u001b[0m\u001b[0mis_unique\u001b[0m\u001b[0;34m:\u001b[0m\u001b[0;34m\u001b[0m\u001b[0m\n\u001b[1;32m    501\u001b[0m                     raise MergeError(\"Data columns not unique: %s\"\n",
      "\u001b[0;31mMergeError\u001b[0m: No common columns to perform merge on"
     ]
    }
   ],
   "source": [
    "# Find the name and grade of the student(s) with the\n",
    "# greatest number of friends. \n",
    "friend_count = Friend.groupby('ID1').agg({'ID2':'count'})\\\n",
    "                     .reset_index()\\\n",
    "                     .rename(columns=({'ID2':'friend_count'}))\n",
    "max_friends = friend_count['friend_count'].max()\n",
    "popular_kids = friend_count.loc[friend_count['friend_count'] == max_friends, ['ID1']]\n",
    "popular_kids.rename(columns=({'ID1':'ID'}))\n",
    "popular_kids.merge(Highschooler)\\\n",
    "            .drop('ID',axis=1)"
   ]
  },
  {
   "cell_type": "code",
   "execution_count": null,
   "metadata": {
    "collapsed": true
   },
   "outputs": [],
   "source": []
  }
 ],
 "metadata": {
  "kernelspec": {
   "display_name": "Python [default]",
   "language": "python",
   "name": "python2"
  },
  "language_info": {
   "codemirror_mode": {
    "name": "ipython",
    "version": 2
   },
   "file_extension": ".py",
   "mimetype": "text/x-python",
   "name": "python",
   "nbconvert_exporter": "python",
   "pygments_lexer": "ipython2",
   "version": "2.7.12"
  }
 },
 "nbformat": 4,
 "nbformat_minor": 1
}
