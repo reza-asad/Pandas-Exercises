{
 "cells": [
  {
   "cell_type": "code",
   "execution_count": 1,
   "metadata": {
    "collapsed": true
   },
   "outputs": [],
   "source": [
    "import pandas as pd\n",
    "import numpy as np"
   ]
  },
  {
   "cell_type": "code",
   "execution_count": 160,
   "metadata": {
    "collapsed": false
   },
   "outputs": [],
   "source": [
    "# Create the frames\n",
    "Highschooler = pd.DataFrame({\n",
    "        'ID':[1510,1689,1381,1709, 1101, 1782, 1468,\n",
    "              1641,1247, 1316,1911, 1501,1304,1025,\n",
    "              1934,1661],\n",
    "        'name':['Jordan', 'Gabriel', 'Tiffany', \n",
    "                'Cassandra','Haley', 'Andrew',\n",
    "                'Kris', 'Brittany', 'Alexis',\n",
    "                'Austin', 'Gabriel', 'Jessica',\n",
    "                'Jordan', 'John', 'Kyle', 'Logan'],\n",
    "        'grade':[9, 9, 9, 9, 10, 10, 10, 10, 11,\n",
    "                 11, 11, 11, 12, 12, 12, 12]\n",
    "    })\n",
    "Friend = pd.DataFrame({\n",
    "        'ID1':[1510, 1510, 1689, 1381, 1709, 1689,\n",
    "               1782, 1782, 1782, 1468, 1468, 1101,\n",
    "               1247, 1247, 1911, 1501, 1316, 1934,\n",
    "               1304, 1661, 1381, 1689, 1709, 1247, \n",
    "               1247, 1782, 1468, 1316, 1304, 1101, \n",
    "               1641, 1641, 1911, 1501, 1501, 1934, \n",
    "               1934, 1304, 1661, 1025],\n",
    "        'ID2':[1381, 1689, 1709, 1247, 1247, 1782,\n",
    "               1468, 1316, 1304, 1101, 1641, 1641,\n",
    "               1911, 1501, 1501, 1934, 1934, 1304,\n",
    "               1661, 1025, 1510, 1510, 1689, 1381, \n",
    "               1709, 1689, 1782, 1782, 1782, 1468, \n",
    "               1468, 1101, 1247, 1247, 1911, 1501, \n",
    "               1316, 1934, 1304, 1661, ]\n",
    "    })\n",
    "Likes = pd.DataFrame({\n",
    "        'ID1':[1689, 1709, 1782, 1911, 1247, 1641, \n",
    "               1316, 1501, 1934, 1025],\n",
    "        'ID2':[1709, 1689, 1709, 1247, 1468, 1468, \n",
    "               1304, 1934, 1501, 1101]\n",
    "    })"
   ]
  },
  {
   "cell_type": "code",
   "execution_count": 132,
   "metadata": {
    "collapsed": false
   },
   "outputs": [
    {
     "data": {
      "text/html": [
       "<div>\n",
       "<table border=\"1\" class=\"dataframe\">\n",
       "  <thead>\n",
       "    <tr style=\"text-align: right;\">\n",
       "      <th></th>\n",
       "      <th>name</th>\n",
       "    </tr>\n",
       "  </thead>\n",
       "  <tbody>\n",
       "    <tr>\n",
       "      <th>0</th>\n",
       "      <td>Cassandra</td>\n",
       "    </tr>\n",
       "    <tr>\n",
       "      <th>1</th>\n",
       "      <td>Andrew</td>\n",
       "    </tr>\n",
       "    <tr>\n",
       "      <th>2</th>\n",
       "      <td>Jordan</td>\n",
       "    </tr>\n",
       "    <tr>\n",
       "      <th>3</th>\n",
       "      <td>Jessica</td>\n",
       "    </tr>\n",
       "    <tr>\n",
       "      <th>4</th>\n",
       "      <td>Alexis</td>\n",
       "    </tr>\n",
       "  </tbody>\n",
       "</table>\n",
       "</div>"
      ],
      "text/plain": [
       "        name\n",
       "0  Cassandra\n",
       "1     Andrew\n",
       "2     Jordan\n",
       "3    Jessica\n",
       "4     Alexis"
      ]
     },
     "execution_count": 132,
     "metadata": {},
     "output_type": "execute_result"
    }
   ],
   "source": [
    "# Find the names of all students who are friends with someone\n",
    "# named Gabriel. \n",
    "gabriels = Highschooler[Highschooler['name']=='Gabriel'][['ID']]\n",
    "gabriels_friends = gabriels.merge(Friend, left_on= 'ID', right_on='ID1')[['ID2']]\\\n",
    "                           .merge(Highschooler[['ID','name']], left_on='ID2', right_on='ID')\\\n",
    "                           .drop_duplicates()[['name']]\n",
    "gabriels_friends"
   ]
  },
  {
   "cell_type": "code",
   "execution_count": 133,
   "metadata": {
    "collapsed": false
   },
   "outputs": [
    {
     "data": {
      "text/html": [
       "<div>\n",
       "<table border=\"1\" class=\"dataframe\">\n",
       "  <thead>\n",
       "    <tr style=\"text-align: right;\">\n",
       "      <th></th>\n",
       "      <th>name_likes</th>\n",
       "      <th>name</th>\n",
       "      <th>grade_likes</th>\n",
       "      <th>grade</th>\n",
       "    </tr>\n",
       "  </thead>\n",
       "  <tbody>\n",
       "    <tr>\n",
       "      <th>9</th>\n",
       "      <td>John</td>\n",
       "      <td>Haley</td>\n",
       "      <td>12</td>\n",
       "      <td>10</td>\n",
       "    </tr>\n",
       "  </tbody>\n",
       "</table>\n",
       "</div>"
      ],
      "text/plain": [
       "  name_likes   name  grade_likes  grade\n",
       "9       John  Haley           12     10"
      ]
     },
     "execution_count": 133,
     "metadata": {},
     "output_type": "execute_result"
    }
   ],
   "source": [
    "# For every student who likes someone 2 or more grades\n",
    "# younger than themselves, return that student's name \n",
    "# and grade, and the name and grade of the student they\n",
    "# like. \n",
    "likes_grades = Likes.merge(Highschooler, left_on='ID1', right_on='ID')\\\n",
    "                    .drop('ID', axis=1)\\\n",
    "                    .merge(Highschooler, left_on='ID2', right_on='ID',\n",
    "                           suffixes=('_likes', ''))\\\n",
    "                    .drop('ID', axis=1)\n",
    "likes_younger_grades = likes_grades[(likes_grades['grade_likes']-likes_grades['grade']) >=2]\n",
    "out_cols = ['name_likes', 'name', 'grade_likes', 'grade']\n",
    "likes_younger_grades[out_cols]"
   ]
  },
  {
   "cell_type": "code",
   "execution_count": 134,
   "metadata": {
    "collapsed": false
   },
   "outputs": [
    {
     "data": {
      "text/html": [
       "<div>\n",
       "<table border=\"1\" class=\"dataframe\">\n",
       "  <thead>\n",
       "    <tr style=\"text-align: right;\">\n",
       "      <th></th>\n",
       "      <th>grade_first</th>\n",
       "      <th>name_first</th>\n",
       "      <th>grade_second</th>\n",
       "      <th>name_second</th>\n",
       "    </tr>\n",
       "  </thead>\n",
       "  <tbody>\n",
       "    <tr>\n",
       "      <th>0</th>\n",
       "      <td>9</td>\n",
       "      <td>Cassandra</td>\n",
       "      <td>9</td>\n",
       "      <td>Gabriel</td>\n",
       "    </tr>\n",
       "    <tr>\n",
       "      <th>1</th>\n",
       "      <td>12</td>\n",
       "      <td>Kyle</td>\n",
       "      <td>11</td>\n",
       "      <td>Jessica</td>\n",
       "    </tr>\n",
       "  </tbody>\n",
       "</table>\n",
       "</div>"
      ],
      "text/plain": [
       "   grade_first name_first  grade_second name_second\n",
       "0            9  Cassandra             9     Gabriel\n",
       "1           12       Kyle            11     Jessica"
      ]
     },
     "execution_count": 134,
     "metadata": {},
     "output_type": "execute_result"
    }
   ],
   "source": [
    "# For every pair of students who both like each other, return \n",
    "# the name and grade of both students. Include each pair only\n",
    "# once, with the two names in alphabetical order. \n",
    "mutal_like = Likes.merge(Likes, left_on='ID2', right_on='ID1', suffixes=('_first', '_second'))\n",
    "mutal_like = mutal_like[mutal_like['ID1_first'] == mutal_like['ID2_second']][['ID1_first',\n",
    "                                                                              'ID2_first']]\n",
    "mutal_like = mutal_like[mutal_like['ID1_first'] > mutal_like['ID2_first']]\n",
    "mutal_like.merge(Highschooler, left_on='ID1_first', right_on='ID')\\\n",
    "          .drop(['ID1_first','ID'], axis=1)\\\n",
    "          .merge(Highschooler, left_on='ID2_first', right_on='ID', suffixes=('_first', '_second'))\\\n",
    "          .drop(['ID2_first','ID'], axis=1)\n"
   ]
  },
  {
   "cell_type": "code",
   "execution_count": 135,
   "metadata": {
    "collapsed": false
   },
   "outputs": [
    {
     "data": {
      "text/html": [
       "<div>\n",
       "<table border=\"1\" class=\"dataframe\">\n",
       "  <thead>\n",
       "    <tr style=\"text-align: right;\">\n",
       "      <th></th>\n",
       "      <th>name</th>\n",
       "      <th>grade</th>\n",
       "    </tr>\n",
       "  </thead>\n",
       "  <tbody>\n",
       "    <tr>\n",
       "      <th>0</th>\n",
       "      <td>Jordan</td>\n",
       "      <td>9</td>\n",
       "    </tr>\n",
       "    <tr>\n",
       "      <th>1</th>\n",
       "      <td>Tiffany</td>\n",
       "      <td>9</td>\n",
       "    </tr>\n",
       "    <tr>\n",
       "      <th>6</th>\n",
       "      <td>Logan</td>\n",
       "      <td>12</td>\n",
       "    </tr>\n",
       "  </tbody>\n",
       "</table>\n",
       "</div>"
      ],
      "text/plain": [
       "      name  grade\n",
       "0   Jordan      9\n",
       "1  Tiffany      9\n",
       "6    Logan     12"
      ]
     },
     "execution_count": 135,
     "metadata": {},
     "output_type": "execute_result"
    }
   ],
   "source": [
    "# Find all students who do not appear in the Likes table \n",
    "# (as a student who likes or is liked) and return their \n",
    "# names and grades. Sort by grade, then by name within \n",
    "# each grade. \n",
    "doesnt_like = Highschooler.merge(Likes[['ID1']], how='left', left_on='ID', right_on='ID1')\n",
    "doesnt_like = doesnt_like[doesnt_like['ID1'].isnull()]\n",
    "doesnt_like = doesnt_like.merge(Likes[['ID2']], how='left', left_on='ID', right_on='ID2')\n",
    "doesnt_like = doesnt_like[doesnt_like['ID2'].isnull()]\n",
    "doesnt_like[['name','grade']].sort_values(by=['grade', 'name'])"
   ]
  },
  {
   "cell_type": "code",
   "execution_count": 136,
   "metadata": {
    "collapsed": false
   },
   "outputs": [
    {
     "data": {
      "text/html": [
       "<div>\n",
       "<table border=\"1\" class=\"dataframe\">\n",
       "  <thead>\n",
       "    <tr style=\"text-align: right;\">\n",
       "      <th></th>\n",
       "      <th>grade_first</th>\n",
       "      <th>name_first</th>\n",
       "      <th>grade_second</th>\n",
       "      <th>name_second</th>\n",
       "    </tr>\n",
       "  </thead>\n",
       "  <tbody>\n",
       "    <tr>\n",
       "      <th>0</th>\n",
       "      <td>11</td>\n",
       "      <td>Alexis</td>\n",
       "      <td>10</td>\n",
       "      <td>Kris</td>\n",
       "    </tr>\n",
       "    <tr>\n",
       "      <th>1</th>\n",
       "      <td>10</td>\n",
       "      <td>Brittany</td>\n",
       "      <td>10</td>\n",
       "      <td>Kris</td>\n",
       "    </tr>\n",
       "    <tr>\n",
       "      <th>2</th>\n",
       "      <td>11</td>\n",
       "      <td>Austin</td>\n",
       "      <td>12</td>\n",
       "      <td>Jordan</td>\n",
       "    </tr>\n",
       "    <tr>\n",
       "      <th>3</th>\n",
       "      <td>12</td>\n",
       "      <td>John</td>\n",
       "      <td>10</td>\n",
       "      <td>Haley</td>\n",
       "    </tr>\n",
       "  </tbody>\n",
       "</table>\n",
       "</div>"
      ],
      "text/plain": [
       "   grade_first name_first  grade_second name_second\n",
       "0           11     Alexis            10        Kris\n",
       "1           10   Brittany            10        Kris\n",
       "2           11     Austin            12      Jordan\n",
       "3           12       John            10       Haley"
      ]
     },
     "execution_count": 136,
     "metadata": {},
     "output_type": "execute_result"
    }
   ],
   "source": [
    "# For every situation where student A likes student B, \n",
    "# but we have no information about whom B likes \n",
    "# (that is, B does not appear as an ID1 in the Likes table),\n",
    "# return A and B's names and grades\n",
    "like_like = Likes.merge(Likes, how='left', left_on='ID2', right_on='ID1', suffixes=('_first', '_second'))\n",
    "like_like = like_like.loc[like_like['ID1_second'].isnull(), ['ID1_first','ID2_first']]\n",
    "like_like.merge(Highschooler, left_on='ID1_first', right_on='ID')\\\n",
    "         .drop(['ID', 'ID1_first'], axis=1)\\\n",
    "         .merge(Highschooler, left_on='ID2_first', right_on='ID', suffixes=('_first', '_second'))\\\n",
    "         .drop(['ID', 'ID2_first'], axis=1)"
   ]
  },
  {
   "cell_type": "code",
   "execution_count": 148,
   "metadata": {
    "collapsed": false
   },
   "outputs": [
    {
     "data": {
      "text/html": [
       "<div>\n",
       "<table border=\"1\" class=\"dataframe\">\n",
       "  <thead>\n",
       "    <tr style=\"text-align: right;\">\n",
       "      <th></th>\n",
       "      <th>grade_f1</th>\n",
       "      <th>name_f1</th>\n",
       "    </tr>\n",
       "  </thead>\n",
       "  <tbody>\n",
       "    <tr>\n",
       "      <th>19</th>\n",
       "      <td>10</td>\n",
       "      <td>Brittany</td>\n",
       "    </tr>\n",
       "    <tr>\n",
       "      <th>15</th>\n",
       "      <td>11</td>\n",
       "      <td>Gabriel</td>\n",
       "    </tr>\n",
       "    <tr>\n",
       "      <th>18</th>\n",
       "      <td>10</td>\n",
       "      <td>Haley</td>\n",
       "    </tr>\n",
       "    <tr>\n",
       "      <th>38</th>\n",
       "      <td>12</td>\n",
       "      <td>John</td>\n",
       "    </tr>\n",
       "    <tr>\n",
       "      <th>0</th>\n",
       "      <td>9</td>\n",
       "      <td>Jordan</td>\n",
       "    </tr>\n",
       "    <tr>\n",
       "      <th>8</th>\n",
       "      <td>10</td>\n",
       "      <td>Kris</td>\n",
       "    </tr>\n",
       "    <tr>\n",
       "      <th>24</th>\n",
       "      <td>12</td>\n",
       "      <td>Logan</td>\n",
       "    </tr>\n",
       "  </tbody>\n",
       "</table>\n",
       "</div>"
      ],
      "text/plain": [
       "    grade_f1   name_f1\n",
       "19        10  Brittany\n",
       "15        11   Gabriel\n",
       "18        10     Haley\n",
       "38        12      John\n",
       "0          9    Jordan\n",
       "8         10      Kris\n",
       "24        12     Logan"
      ]
     },
     "execution_count": 148,
     "metadata": {},
     "output_type": "execute_result"
    }
   ],
   "source": [
    "# Find names and grades of students who only have friends\n",
    "# in the same grade. Return the result sorted by grade, \n",
    "# then by name within each grade. \n",
    "friend_info = Friend.merge(Highschooler, left_on= 'ID1', right_on='ID')\\\n",
    "                    .drop('ID', axis=1)\\\n",
    "                    .merge(Highschooler, left_on='ID2', right_on='ID', suffixes=('_f1', '_f2'))\\\n",
    "                    .drop('ID', axis=1)\n",
    "\n",
    "\n",
    "out_cols = ['grade_f1', 'name_f1']\n",
    "def is_same_grade(g):\n",
    "    one_grade = g['grade_f2'].unique().size == 1\n",
    "    return (one_grade) and (g['grade_f1'].values[0] == g['grade_f2'].values[0])\n",
    "friend_info.groupby('ID1')\\\n",
    "           .filter(is_same_grade)\\\n",
    "           .drop_duplicates(subset='ID1')[out_cols]\\\n",
    "           .sort_values(by=['name_f1','grade_f1'])"
   ]
  },
  {
   "cell_type": "code",
   "execution_count": 149,
   "metadata": {
    "collapsed": false
   },
   "outputs": [
    {
     "data": {
      "text/html": [
       "<div>\n",
       "<table border=\"1\" class=\"dataframe\">\n",
       "  <thead>\n",
       "    <tr style=\"text-align: right;\">\n",
       "      <th></th>\n",
       "      <th>name</th>\n",
       "      <th>grade</th>\n",
       "      <th>name_ID1_likes</th>\n",
       "      <th>grade_ID1_likes</th>\n",
       "      <th>name_ID1_friends_with</th>\n",
       "      <th>grade_ID1_friends_with</th>\n",
       "    </tr>\n",
       "  </thead>\n",
       "  <tbody>\n",
       "    <tr>\n",
       "      <th>0</th>\n",
       "      <td>Andrew</td>\n",
       "      <td>10</td>\n",
       "      <td>Cassandra</td>\n",
       "      <td>9</td>\n",
       "      <td>Gabriel</td>\n",
       "      <td>9</td>\n",
       "    </tr>\n",
       "    <tr>\n",
       "      <th>1</th>\n",
       "      <td>Austin</td>\n",
       "      <td>11</td>\n",
       "      <td>Jordan</td>\n",
       "      <td>12</td>\n",
       "      <td>Kyle</td>\n",
       "      <td>12</td>\n",
       "    </tr>\n",
       "    <tr>\n",
       "      <th>2</th>\n",
       "      <td>Austin</td>\n",
       "      <td>11</td>\n",
       "      <td>Jordan</td>\n",
       "      <td>12</td>\n",
       "      <td>Andrew</td>\n",
       "      <td>10</td>\n",
       "    </tr>\n",
       "  </tbody>\n",
       "</table>\n",
       "</div>"
      ],
      "text/plain": [
       "     name  grade name_ID1_likes  grade_ID1_likes name_ID1_friends_with  \\\n",
       "0  Andrew     10      Cassandra                9               Gabriel   \n",
       "1  Austin     11         Jordan               12                  Kyle   \n",
       "2  Austin     11         Jordan               12                Andrew   \n",
       "\n",
       "   grade_ID1_friends_with  \n",
       "0                       9  \n",
       "1                      12  \n",
       "2                      10  "
      ]
     },
     "execution_count": 149,
     "metadata": {},
     "output_type": "execute_result"
    }
   ],
   "source": [
    "# For each student A who likes a student B where the two\n",
    "# are not friends, find if they have a friend C in common\n",
    "# (who can introduce them!). For all such trios, return the\n",
    "# name and grade of A, B, and C. \n",
    "friend_like = Likes.merge(Friend, on='ID1', suffixes=('_x', '_y'))\\\n",
    "                   .rename(columns=({'ID2_x':'ID1_likes', 'ID2_y':'ID1_friends_with'}))\n",
    "def not_friends(g):\n",
    "    not_friends = sum(g['ID1_friends_with'] != g['ID1_likes'])\n",
    "    return not_friends==len(g)\n",
    "friend_like = friend_like.groupby('ID1')\\\n",
    "                         .filter(not_friends)\n",
    "friend_like = friend_like.merge(Friend, left_on='ID1_likes', right_on='ID1', suffixes=('','_x'))\\\n",
    "                         .drop('ID1_x', axis=1)\\\n",
    "                         .rename(columns=({'ID2':'ID2_friends_with'}))\n",
    "friend_like = friend_like[friend_like['ID1_friends_with']==friend_like['ID2_friends_with']]\n",
    "friend_like\n",
    "friend_like = friend_like.merge(Highschooler, left_on='ID1', right_on='ID')\\\n",
    "                         .drop('ID', axis=1)\\\n",
    "                         .merge(Highschooler, left_on='ID1_likes', right_on='ID', \n",
    "                                suffixes=('','_ID1_likes'))\\\n",
    "                         .drop('ID', axis=1)\\\n",
    "                         .merge(Highschooler, left_on='ID1_friends_with', right_on='ID', \n",
    "                                suffixes=('', '_ID1_friends_with'))\n",
    "out_cols = ['name', 'grade', 'name_ID1_likes', 'grade_ID1_likes', \n",
    "            'name_ID1_friends_with', 'grade_ID1_friends_with']\n",
    "friend_like[out_cols]"
   ]
  },
  {
   "cell_type": "code",
   "execution_count": 151,
   "metadata": {
    "collapsed": false
   },
   "outputs": [
    {
     "data": {
      "text/plain": [
       "2"
      ]
     },
     "execution_count": 151,
     "metadata": {},
     "output_type": "execute_result"
    }
   ],
   "source": [
    "# Find the difference between the number of students in the \n",
    "# school and the number of different first names. \n",
    "number_students = Highschooler['ID'].notnull().sum()\n",
    "number_of_names = Highschooler['name'].unique().size\n",
    "number_students - number_of_names"
   ]
  },
  {
   "cell_type": "code",
   "execution_count": 162,
   "metadata": {
    "collapsed": false
   },
   "outputs": [
    {
     "data": {
      "text/html": [
       "<div>\n",
       "<table border=\"1\" class=\"dataframe\">\n",
       "  <thead>\n",
       "    <tr style=\"text-align: right;\">\n",
       "      <th></th>\n",
       "      <th>name</th>\n",
       "      <th>grade</th>\n",
       "    </tr>\n",
       "  </thead>\n",
       "  <tbody>\n",
       "    <tr>\n",
       "      <th>0</th>\n",
       "      <td>Cassandra</td>\n",
       "      <td>9</td>\n",
       "    </tr>\n",
       "    <tr>\n",
       "      <th>1</th>\n",
       "      <td>Kris</td>\n",
       "      <td>10</td>\n",
       "    </tr>\n",
       "  </tbody>\n",
       "</table>\n",
       "</div>"
      ],
      "text/plain": [
       "        name  grade\n",
       "0  Cassandra      9\n",
       "1       Kris     10"
      ]
     },
     "execution_count": 162,
     "metadata": {},
     "output_type": "execute_result"
    }
   ],
   "source": [
    "# Find the name and grade of all students who are liked by\n",
    "# more than one other student. \n",
    "def is_popular(g):\n",
    "    return g.loc[g['ID1'].notnull(),'ID1'].unique().size > 1\n",
    "popular = Likes.groupby('ID2')\\\n",
    "               .filter(is_popular)[['ID2']]\\\n",
    "               .drop_duplicates()\n",
    "out_cols = ['name', 'grade']\n",
    "popular.merge(Highschooler, left_on='ID2', right_on='ID')[out_cols]"
   ]
  },
  {
   "cell_type": "code",
   "execution_count": null,
   "metadata": {
    "collapsed": false
   },
   "outputs": [],
   "source": []
  },
  {
   "cell_type": "code",
   "execution_count": null,
   "metadata": {
    "collapsed": true
   },
   "outputs": [],
   "source": []
  }
 ],
 "metadata": {
  "kernelspec": {
   "display_name": "Python [default]",
   "language": "python",
   "name": "python2"
  },
  "language_info": {
   "codemirror_mode": {
    "name": "ipython",
    "version": 2
   },
   "file_extension": ".py",
   "mimetype": "text/x-python",
   "name": "python",
   "nbconvert_exporter": "python",
   "pygments_lexer": "ipython2",
   "version": "2.7.12"
  }
 },
 "nbformat": 4,
 "nbformat_minor": 1
}
