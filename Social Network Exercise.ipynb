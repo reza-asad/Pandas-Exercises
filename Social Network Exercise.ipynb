{
 "cells": [
  {
   "cell_type": "code",
   "execution_count": 1,
   "metadata": {
    "collapsed": true
   },
   "outputs": [],
   "source": [
    "import pandas as pd\n",
    "import numpy as np"
   ]
  },
  {
   "cell_type": "code",
   "execution_count": 21,
   "metadata": {
    "collapsed": false
   },
   "outputs": [],
   "source": [
    "# Create the frames\n",
    "Highschooler = pd.DataFrame({\n",
    "        'ID':[1510,1689,1381,1709, 1101, 1782, 1468,\n",
    "              1641,1247, 1316,1911, 1501,1304,1025,\n",
    "              1934,1661],\n",
    "        'name':['Jordan', 'Gabriel', 'Tiffany', \n",
    "                'Cassandra','Haley', 'Andrew',\n",
    "                'Kris', 'Brittany', 'Alexis',\n",
    "                'Austin', 'Gabriel', 'Jessica',\n",
    "                'Jordan', 'John', 'Kyle', 'Logan'],\n",
    "        'grade':[9, 9, 9, 9, 10, 10, 10, 10, 11,\n",
    "                 11, 11, 11, 12, 12, 12, 12]\n",
    "    })\n",
    "Friend = pd.DataFrame({\n",
    "        'ID1':[1510, 1510, 1689, 1381, 1709, 1689,\n",
    "               1782, 1782, 1782, 1468, 1468, 1101,\n",
    "               1247, 1247, 1911, 1501, 1316, 1934,\n",
    "               1304, 1661],\n",
    "        'ID2':[1381, 1689, 1709, 1247, 1247, 1782,\n",
    "               1468, 1316, 1304, 1101, 1641, 1641,\n",
    "               1911, 1501, 1501, 1934, 1934, 1304,\n",
    "               1661, 1025]\n",
    "    })\n",
    "Likes = pd.DataFrame({\n",
    "        'ID1':[1689, 1709, 1782, 1911, 1247, 1641, \n",
    "               1316, 1501, 1934, 1025],\n",
    "        'ID2':[1709, 1689, 1709, 1247, 1468, 1468, \n",
    "               1304, 1934, 1501, 1101]\n",
    "    })"
   ]
  },
  {
   "cell_type": "code",
   "execution_count": 33,
   "metadata": {
    "collapsed": false
   },
   "outputs": [
    {
     "data": {
      "text/html": [
       "<div>\n",
       "<table border=\"1\" class=\"dataframe\">\n",
       "  <thead>\n",
       "    <tr style=\"text-align: right;\">\n",
       "      <th></th>\n",
       "      <th>name</th>\n",
       "    </tr>\n",
       "  </thead>\n",
       "  <tbody>\n",
       "    <tr>\n",
       "      <th>0</th>\n",
       "      <td>Cassandra</td>\n",
       "    </tr>\n",
       "    <tr>\n",
       "      <th>1</th>\n",
       "      <td>Andrew</td>\n",
       "    </tr>\n",
       "    <tr>\n",
       "      <th>2</th>\n",
       "      <td>Jessica</td>\n",
       "    </tr>\n",
       "  </tbody>\n",
       "</table>\n",
       "</div>"
      ],
      "text/plain": [
       "        name\n",
       "0  Cassandra\n",
       "1     Andrew\n",
       "2    Jessica"
      ]
     },
     "execution_count": 33,
     "metadata": {},
     "output_type": "execute_result"
    }
   ],
   "source": [
    "# Find the names of all students who are friends with someone\n",
    "# named Gabriel. \n",
    "gabriels = Highschooler[Highschooler['name']=='Gabriel'][['ID']]\n",
    "gabriels_friends = gabriels.merge(Friend, left_on= 'ID', right_on='ID1')[['ID2']]\\\n",
    "                           .merge(Highschooler[['ID','name']], left_on='ID2', right_on='ID')\\\n",
    "                           .drop_duplicates()[['name']]\n",
    "gabriels_friends"
   ]
  },
  {
   "cell_type": "code",
   "execution_count": 41,
   "metadata": {
    "collapsed": false
   },
   "outputs": [
    {
     "data": {
      "text/html": [
       "<div>\n",
       "<table border=\"1\" class=\"dataframe\">\n",
       "  <thead>\n",
       "    <tr style=\"text-align: right;\">\n",
       "      <th></th>\n",
       "      <th>name_likes</th>\n",
       "      <th>name</th>\n",
       "      <th>grade_likes</th>\n",
       "      <th>grade</th>\n",
       "    </tr>\n",
       "  </thead>\n",
       "  <tbody>\n",
       "    <tr>\n",
       "      <th>9</th>\n",
       "      <td>John</td>\n",
       "      <td>Haley</td>\n",
       "      <td>12</td>\n",
       "      <td>10</td>\n",
       "    </tr>\n",
       "  </tbody>\n",
       "</table>\n",
       "</div>"
      ],
      "text/plain": [
       "  name_likes   name  grade_likes  grade\n",
       "9       John  Haley           12     10"
      ]
     },
     "execution_count": 41,
     "metadata": {},
     "output_type": "execute_result"
    }
   ],
   "source": [
    "# For every student who likes someone 2 or more grades\n",
    "# younger than themselves, return that student's name \n",
    "# and grade, and the name and grade of the student they\n",
    "# like. \n",
    "likes_grades = Likes.merge(Highschooler, left_on='ID1', right_on='ID')\\\n",
    "                    .drop('ID', axis=1)\\\n",
    "                    .merge(Highschooler, left_on='ID2', right_on='ID',\n",
    "                           suffixes=('_likes', ''))\\\n",
    "                    .drop('ID', axis=1)\n",
    "likes_younger_grades = likes_grades[(likes_grades['grade_likes']-likes_grades['grade']) >=2]\n",
    "out_cols = ['name_likes', 'name', 'grade_likes', 'grade']\n",
    "likes_younger_grades[out_cols]"
   ]
  },
  {
   "cell_type": "code",
   "execution_count": 67,
   "metadata": {
    "collapsed": false
   },
   "outputs": [
    {
     "data": {
      "text/html": [
       "<div>\n",
       "<table border=\"1\" class=\"dataframe\">\n",
       "  <thead>\n",
       "    <tr style=\"text-align: right;\">\n",
       "      <th></th>\n",
       "      <th>grade_first</th>\n",
       "      <th>name_first</th>\n",
       "      <th>grade_second</th>\n",
       "      <th>name_second</th>\n",
       "    </tr>\n",
       "  </thead>\n",
       "  <tbody>\n",
       "    <tr>\n",
       "      <th>0</th>\n",
       "      <td>9</td>\n",
       "      <td>Cassandra</td>\n",
       "      <td>9</td>\n",
       "      <td>Gabriel</td>\n",
       "    </tr>\n",
       "    <tr>\n",
       "      <th>1</th>\n",
       "      <td>12</td>\n",
       "      <td>Kyle</td>\n",
       "      <td>11</td>\n",
       "      <td>Jessica</td>\n",
       "    </tr>\n",
       "  </tbody>\n",
       "</table>\n",
       "</div>"
      ],
      "text/plain": [
       "   grade_first name_first  grade_second name_second\n",
       "0            9  Cassandra             9     Gabriel\n",
       "1           12       Kyle            11     Jessica"
      ]
     },
     "execution_count": 67,
     "metadata": {},
     "output_type": "execute_result"
    }
   ],
   "source": [
    "# For every pair of students who both like each other, return \n",
    "# the name and grade of both students. Include each pair only\n",
    "# once, with the two names in alphabetical order. \n",
    "mutal_like = Likes.merge(Likes, left_on='ID2', right_on='ID1', suffixes=('_first', '_second'))\n",
    "mutal_like = mutal_like[mutal_like['ID1_first'] == mutal_like['ID2_second']][['ID1_first',\n",
    "                                                                              'ID2_first']]\n",
    "mutal_like = mutal_like[mutal_like['ID1_first'] > mutal_like['ID2_first']]\n",
    "mutal_like.merge(Highschooler, left_on='ID1_first', right_on='ID')\\\n",
    "          .drop(['ID1_first','ID'], axis=1)\\\n",
    "          .merge(Highschooler, left_on='ID2_first', right_on='ID', suffixes=('_first', '_second'))\\\n",
    "          .drop(['ID2_first','ID'], axis=1)\n"
   ]
  },
  {
   "cell_type": "code",
   "execution_count": 66,
   "metadata": {
    "collapsed": false
   },
   "outputs": [
    {
     "data": {
      "text/plain": [
       "{(1, 2), (2, 1)}"
      ]
     },
     "execution_count": 66,
     "metadata": {},
     "output_type": "execute_result"
    }
   ],
   "source": [
    "{(1,2), (2,1), (1,2)}"
   ]
  },
  {
   "cell_type": "code",
   "execution_count": null,
   "metadata": {
    "collapsed": true
   },
   "outputs": [],
   "source": []
  }
 ],
 "metadata": {
  "kernelspec": {
   "display_name": "Python [default]",
   "language": "python",
   "name": "python2"
  },
  "language_info": {
   "codemirror_mode": {
    "name": "ipython",
    "version": 2
   },
   "file_extension": ".py",
   "mimetype": "text/x-python",
   "name": "python",
   "nbconvert_exporter": "python",
   "pygments_lexer": "ipython2",
   "version": "2.7.12"
  }
 },
 "nbformat": 4,
 "nbformat_minor": 1
}
