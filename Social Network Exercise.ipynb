{
 "cells": [
  {
   "cell_type": "code",
   "execution_count": 1,
   "metadata": {
    "collapsed": true
   },
   "outputs": [],
   "source": [
    "import pandas as pd\n",
    "import numpy as np"
   ]
  },
  {
   "cell_type": "code",
   "execution_count": 21,
   "metadata": {
    "collapsed": false
   },
   "outputs": [],
   "source": [
    "# Create the frames\n",
    "Highschooler = pd.DataFrame({\n",
    "        'ID':[1510,1689,1381,1709, 1101, 1782, 1468,\n",
    "              1641,1247, 1316,1911, 1501,1304,1025,\n",
    "              1934,1661],\n",
    "        'name':['Jordan', 'Gabriel', 'Tiffany', \n",
    "                'Cassandra','Haley', 'Andrew',\n",
    "                'Kris', 'Brittany', 'Alexis',\n",
    "                'Austin', 'Gabriel', 'Jessica',\n",
    "                'Jordan', 'John', 'Kyle', 'Logan'],\n",
    "        'grade':[9, 9, 9, 9, 10, 10, 10, 10, 11,\n",
    "                 11, 11, 11, 12, 12, 12, 12]\n",
    "    })\n",
    "Friend = pd.DataFrame({\n",
    "        'ID1':[1510, 1510, 1689, 1381, 1709, 1689,\n",
    "               1782, 1782, 1782, 1468, 1468, 1101,\n",
    "               1247, 1247, 1911, 1501, 1316, 1934,\n",
    "               1304, 1661],\n",
    "        'ID2':[1381, 1689, 1709, 1247, 1247, 1782,\n",
    "               1468, 1316, 1304, 1101, 1641, 1641,\n",
    "               1911, 1501, 1501, 1934, 1934, 1304,\n",
    "               1661, 1025]\n",
    "    })\n",
    "Likes = pd.DataFrame({\n",
    "        'ID1':[1689, 1709, 1782, 1911, 1247, 1641, \n",
    "               1316, 1501, 1934, 1025],\n",
    "        'ID2':[1709, 1689, 1709, 1247, 1468, 1468, \n",
    "               1304, 1934, 1501, 1101]\n",
    "    })"
   ]
  },
  {
   "cell_type": "code",
   "execution_count": null,
   "metadata": {
    "collapsed": true
   },
   "outputs": [],
   "source": []
  }
 ],
 "metadata": {
  "kernelspec": {
   "display_name": "Python [default]",
   "language": "python",
   "name": "python2"
  },
  "language_info": {
   "codemirror_mode": {
    "name": "ipython",
    "version": 2
   },
   "file_extension": ".py",
   "mimetype": "text/x-python",
   "name": "python",
   "nbconvert_exporter": "python",
   "pygments_lexer": "ipython2",
   "version": "2.7.12"
  }
 },
 "nbformat": 4,
 "nbformat_minor": 1
}
