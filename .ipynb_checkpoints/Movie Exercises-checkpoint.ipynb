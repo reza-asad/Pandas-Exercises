{
 "cells": [
  {
   "cell_type": "code",
   "execution_count": 2,
   "metadata": {
    "collapsed": true
   },
   "outputs": [],
   "source": [
    "# Imports\n",
    "import pandas as pd\n",
    "import numpy as np"
   ]
  },
  {
   "cell_type": "code",
   "execution_count": 3,
   "metadata": {
    "collapsed": false
   },
   "outputs": [],
   "source": [
    "# Create the data\n",
    "Movie = pd.DataFrame(\n",
    "    {\n",
    "        'mID':[101, 102, 103, 104, 105, 106, 107, 108],\n",
    "        'title':['Gone with the Wind', 'Star Wars', 'The Sound of Music',\n",
    "                 'E.T.', 'Titanic', 'Snow White', 'Avator', \n",
    "                 'Raiders of the Lost Ark'], \n",
    "        'year':[1939, 1977, 1965, 1982, 1997, 1937, 2009, 1981], \n",
    "        'director':['Victor Fleming', 'George Lucas', 'Robert Wise',\n",
    "                    'Steven Spielberg','James Cameron', np.nan, \n",
    "                    'James Cameron', 'Steven Spielberg']\n",
    "    })\n",
    "\n",
    "Reviewer = pd.DataFrame(\n",
    "    {\n",
    "        'rID':[201, 202, 203, 204, 205, 206, 207, 208],\n",
    "        'name':['Sarah Martinez', 'Daniel Lewis', 'Brittany Harris',\n",
    "                'Mike Anderson', 'Chris Jackson', 'Elizabeth Thomas',\n",
    "                'James Cameron', 'Ashley White']\n",
    "    })\n",
    "\n",
    "Rating = pd.DataFrame(\n",
    "    {\n",
    "        'rID':[201,201,202,203,203,203,204,205,205,205,206,\n",
    "               206,207,208],\n",
    "        'mID':[101,101,106,103,108,108,101,103,104,108,107,\n",
    "               106,107,104],\n",
    "        'stars':[2,4,4,2,4,2,3,3,2,4,3,5,5,3],\n",
    "        'ratingDate':['2011-01-22', '2011-01-27',np.nan,\n",
    "                      '2011-01-20', '2011-01-12', '2011-01-30',\n",
    "                      '2011-01-09', '2011-01-27', '2011-01-22',\n",
    "                      np.nan, '2011-01-15', '2011-01-19',\n",
    "                      '2011-01-20', '2011-01-02']\n",
    "    })"
   ]
  },
  {
   "cell_type": "code",
   "execution_count": 10,
   "metadata": {
    "collapsed": false
   },
   "outputs": [
    {
     "data": {
      "text/plain": [
       "3                       E.T.\n",
       "7    Raiders of the Lost Ark\n",
       "Name: title, dtype: object"
      ]
     },
     "execution_count": 10,
     "metadata": {},
     "output_type": "execute_result"
    }
   ],
   "source": [
    "# Find the titles of all movies directed by Steven Spielberg.\n",
    "by_steve = Movie['director'] == 'Steven Spielberg'\n",
    "Movie.loc[by_steve, 'title']"
   ]
  },
  {
   "cell_type": "code",
   "execution_count": 78,
   "metadata": {
    "collapsed": false
   },
   "outputs": [
    {
     "name": "stdout",
     "output_type": "stream",
     "text": [
      "4     2011-01-12\n",
      "11    2011-01-19\n",
      "12    2011-01-20\n",
      "1     2011-01-27\n",
      "2            NaN\n",
      "9            NaN\n",
      "Name: ratingDate, dtype: object\n",
      "1     2011\n",
      "4     2011\n",
      "11    2011\n",
      "12    2011\n",
      "2      nan\n",
      "9      nan\n",
      "Name: ratingDate, dtype: object\n"
     ]
    }
   ],
   "source": [
    "# Find all years that have a movie that received a rating of 4 or 5, and sort them in increasing order.\n",
    "rating_4_or_5 = Rating['stars'].isin([4,5])\n",
    "print Rating.loc[rating_4_or_5, 'ratingDate'].sort_values(ascending=True)\n",
    "\n",
    "# Do the same thing on the year\n",
    "def extract_year(t):\n",
    "    try:\n",
    "        year = str(pd.to_datetime(t, format='%Y-%m-%d').year)\n",
    "    except:\n",
    "        year = np.nan\n",
    "    return year\n",
    "print Rating.loc[rating_4_or_5, 'ratingDate'].apply(extract_year).sort_values(ascending=True)"
   ]
  },
  {
   "cell_type": "code",
   "execution_count": 85,
   "metadata": {
    "collapsed": false
   },
   "outputs": [
    {
     "data": {
      "text/html": [
       "<div>\n",
       "<table border=\"1\" class=\"dataframe\">\n",
       "  <thead>\n",
       "    <tr style=\"text-align: right;\">\n",
       "      <th></th>\n",
       "      <th>mID</th>\n",
       "      <th>title</th>\n",
       "    </tr>\n",
       "  </thead>\n",
       "  <tbody>\n",
       "  </tbody>\n",
       "</table>\n",
       "</div>"
      ],
      "text/plain": [
       "Empty DataFrame\n",
       "Columns: [mID, title]\n",
       "Index: []"
      ]
     },
     "execution_count": 85,
     "metadata": {},
     "output_type": "execute_result"
    }
   ],
   "source": [
    "# Find the titles of all movies that have no ratings. \n",
    "no_rating_movies = Rating[Rating['stars'].isnull()]\n",
    "pd.merge(no_rating_movies[['mID']], Movie[['mID','title']], on='mID')"
   ]
  },
  {
   "cell_type": "code",
   "execution_count": 89,
   "metadata": {
    "collapsed": false
   },
   "outputs": [
    {
     "data": {
      "text/html": [
       "<div>\n",
       "<table border=\"1\" class=\"dataframe\">\n",
       "  <thead>\n",
       "    <tr style=\"text-align: right;\">\n",
       "      <th></th>\n",
       "      <th>rID</th>\n",
       "      <th>name</th>\n",
       "    </tr>\n",
       "  </thead>\n",
       "  <tbody>\n",
       "    <tr>\n",
       "      <th>0</th>\n",
       "      <td>202</td>\n",
       "      <td>Daniel Lewis</td>\n",
       "    </tr>\n",
       "    <tr>\n",
       "      <th>1</th>\n",
       "      <td>205</td>\n",
       "      <td>Chris Jackson</td>\n",
       "    </tr>\n",
       "  </tbody>\n",
       "</table>\n",
       "</div>"
      ],
      "text/plain": [
       "   rID           name\n",
       "0  202   Daniel Lewis\n",
       "1  205  Chris Jackson"
      ]
     },
     "execution_count": 89,
     "metadata": {},
     "output_type": "execute_result"
    }
   ],
   "source": [
    "# Some reviewers didn't provide a date with their rating. Find the names of all reviewers \n",
    "# who have ratings with a NULL value for the date.\n",
    "no_review_date = Rating[Rating['ratingDate'].isnull()]\n",
    "pd.merge(no_review_date[['rID']], Reviewer, on='rID')"
   ]
  },
  {
   "cell_type": "code",
   "execution_count": 98,
   "metadata": {
    "collapsed": false
   },
   "outputs": [
    {
     "data": {
      "text/html": [
       "<div>\n",
       "<table border=\"1\" class=\"dataframe\">\n",
       "  <thead>\n",
       "    <tr style=\"text-align: right;\">\n",
       "      <th></th>\n",
       "      <th>mID</th>\n",
       "      <th>rID</th>\n",
       "      <th>ratingDate</th>\n",
       "      <th>stars</th>\n",
       "      <th>name</th>\n",
       "      <th>title</th>\n",
       "    </tr>\n",
       "  </thead>\n",
       "  <tbody>\n",
       "    <tr>\n",
       "      <th>11</th>\n",
       "      <td>104</td>\n",
       "      <td>208</td>\n",
       "      <td>2011-01-02</td>\n",
       "      <td>3</td>\n",
       "      <td>Ashley White</td>\n",
       "      <td>E.T.</td>\n",
       "    </tr>\n",
       "    <tr>\n",
       "      <th>8</th>\n",
       "      <td>108</td>\n",
       "      <td>203</td>\n",
       "      <td>2011-01-30</td>\n",
       "      <td>2</td>\n",
       "      <td>Brittany Harris</td>\n",
       "      <td>Raiders of the Lost Ark</td>\n",
       "    </tr>\n",
       "    <tr>\n",
       "      <th>7</th>\n",
       "      <td>108</td>\n",
       "      <td>203</td>\n",
       "      <td>2011-01-12</td>\n",
       "      <td>4</td>\n",
       "      <td>Brittany Harris</td>\n",
       "      <td>Raiders of the Lost Ark</td>\n",
       "    </tr>\n",
       "    <tr>\n",
       "      <th>5</th>\n",
       "      <td>103</td>\n",
       "      <td>203</td>\n",
       "      <td>2011-01-20</td>\n",
       "      <td>2</td>\n",
       "      <td>Brittany Harris</td>\n",
       "      <td>The Sound of Music</td>\n",
       "    </tr>\n",
       "    <tr>\n",
       "      <th>10</th>\n",
       "      <td>104</td>\n",
       "      <td>205</td>\n",
       "      <td>2011-01-22</td>\n",
       "      <td>2</td>\n",
       "      <td>Chris Jackson</td>\n",
       "      <td>E.T.</td>\n",
       "    </tr>\n",
       "    <tr>\n",
       "      <th>9</th>\n",
       "      <td>108</td>\n",
       "      <td>205</td>\n",
       "      <td>NaN</td>\n",
       "      <td>4</td>\n",
       "      <td>Chris Jackson</td>\n",
       "      <td>Raiders of the Lost Ark</td>\n",
       "    </tr>\n",
       "    <tr>\n",
       "      <th>6</th>\n",
       "      <td>103</td>\n",
       "      <td>205</td>\n",
       "      <td>2011-01-27</td>\n",
       "      <td>3</td>\n",
       "      <td>Chris Jackson</td>\n",
       "      <td>The Sound of Music</td>\n",
       "    </tr>\n",
       "    <tr>\n",
       "      <th>3</th>\n",
       "      <td>106</td>\n",
       "      <td>202</td>\n",
       "      <td>NaN</td>\n",
       "      <td>4</td>\n",
       "      <td>Daniel Lewis</td>\n",
       "      <td>Snow White</td>\n",
       "    </tr>\n",
       "    <tr>\n",
       "      <th>12</th>\n",
       "      <td>107</td>\n",
       "      <td>206</td>\n",
       "      <td>2011-01-15</td>\n",
       "      <td>3</td>\n",
       "      <td>Elizabeth Thomas</td>\n",
       "      <td>Avator</td>\n",
       "    </tr>\n",
       "    <tr>\n",
       "      <th>4</th>\n",
       "      <td>106</td>\n",
       "      <td>206</td>\n",
       "      <td>2011-01-19</td>\n",
       "      <td>5</td>\n",
       "      <td>Elizabeth Thomas</td>\n",
       "      <td>Snow White</td>\n",
       "    </tr>\n",
       "    <tr>\n",
       "      <th>13</th>\n",
       "      <td>107</td>\n",
       "      <td>207</td>\n",
       "      <td>2011-01-20</td>\n",
       "      <td>5</td>\n",
       "      <td>James Cameron</td>\n",
       "      <td>Avator</td>\n",
       "    </tr>\n",
       "    <tr>\n",
       "      <th>2</th>\n",
       "      <td>101</td>\n",
       "      <td>204</td>\n",
       "      <td>2011-01-09</td>\n",
       "      <td>3</td>\n",
       "      <td>Mike Anderson</td>\n",
       "      <td>Gone with the wind</td>\n",
       "    </tr>\n",
       "    <tr>\n",
       "      <th>0</th>\n",
       "      <td>101</td>\n",
       "      <td>201</td>\n",
       "      <td>2011-01-22</td>\n",
       "      <td>2</td>\n",
       "      <td>Sarah Martinez</td>\n",
       "      <td>Gone with the wind</td>\n",
       "    </tr>\n",
       "    <tr>\n",
       "      <th>1</th>\n",
       "      <td>101</td>\n",
       "      <td>201</td>\n",
       "      <td>2011-01-27</td>\n",
       "      <td>4</td>\n",
       "      <td>Sarah Martinez</td>\n",
       "      <td>Gone with the wind</td>\n",
       "    </tr>\n",
       "  </tbody>\n",
       "</table>\n",
       "</div>"
      ],
      "text/plain": [
       "    mID  rID  ratingDate  stars              name                    title\n",
       "11  104  208  2011-01-02      3      Ashley White                     E.T.\n",
       "8   108  203  2011-01-30      2   Brittany Harris  Raiders of the Lost Ark\n",
       "7   108  203  2011-01-12      4   Brittany Harris  Raiders of the Lost Ark\n",
       "5   103  203  2011-01-20      2   Brittany Harris       The Sound of Music\n",
       "10  104  205  2011-01-22      2     Chris Jackson                     E.T.\n",
       "9   108  205         NaN      4     Chris Jackson  Raiders of the Lost Ark\n",
       "6   103  205  2011-01-27      3     Chris Jackson       The Sound of Music\n",
       "3   106  202         NaN      4      Daniel Lewis               Snow White\n",
       "12  107  206  2011-01-15      3  Elizabeth Thomas                   Avator\n",
       "4   106  206  2011-01-19      5  Elizabeth Thomas               Snow White\n",
       "13  107  207  2011-01-20      5     James Cameron                   Avator\n",
       "2   101  204  2011-01-09      3     Mike Anderson       Gone with the wind\n",
       "0   101  201  2011-01-22      2    Sarah Martinez       Gone with the wind\n",
       "1   101  201  2011-01-27      4    Sarah Martinez       Gone with the wind"
      ]
     },
     "execution_count": 98,
     "metadata": {},
     "output_type": "execute_result"
    }
   ],
   "source": [
    "# Write a query to return the ratings data in a more readable \n",
    "# format: reviewer name, movie title, stars, and ratingDate. \n",
    "# Also, sort the data, first by reviewer name, then by movie \n",
    "# title, and lastly by number of stars.\n",
    "rating_reviewer = pd.merge(Rating, Reviewer, on='rID')\n",
    "pd.merge(rating_reviewer, Movie[['mID', 'title']], on='mID').sort_values(by=['name',\n",
    "                                                                             'title',\n",
    "                                                                             'stars'])"
   ]
  },
  {
   "cell_type": "code",
   "execution_count": 395,
   "metadata": {
    "collapsed": false,
    "scrolled": false
   },
   "outputs": [
    {
     "data": {
      "text/html": [
       "<div>\n",
       "<table border=\"1\" class=\"dataframe\">\n",
       "  <thead>\n",
       "    <tr style=\"text-align: right;\">\n",
       "      <th></th>\n",
       "      <th>rID</th>\n",
       "      <th>mID</th>\n",
       "      <th>name</th>\n",
       "      <th>title</th>\n",
       "    </tr>\n",
       "  </thead>\n",
       "  <tbody>\n",
       "    <tr>\n",
       "      <th>0</th>\n",
       "      <td>201</td>\n",
       "      <td>101</td>\n",
       "      <td>Sarah Martinez</td>\n",
       "      <td>Gone with the wind</td>\n",
       "    </tr>\n",
       "  </tbody>\n",
       "</table>\n",
       "</div>"
      ],
      "text/plain": [
       "   rID  mID            name               title\n",
       "0  201  101  Sarah Martinez  Gone with the wind"
      ]
     },
     "execution_count": 395,
     "metadata": {},
     "output_type": "execute_result"
    }
   ],
   "source": [
    "# For all cases where the same reviewer rated the same movie \n",
    "# twice and gave it a higher rating the second time, return\n",
    "# the reviewer's name and the title of the movie.\n",
    "\n",
    "# Solution using groupby    \n",
    "rating_groups = Rating.groupby(['rID','mID'])\n",
    "two_reviews = rating_groups.filter(lambda x: len(x)==2)\n",
    "two_reviews = pd.merge(two_reviews, two_reviews, on=['rID', 'mID'], suffixes=('_first','_second'))\n",
    "second_rating = two_reviews['ratingDate_second'] > two_reviews['ratingDate_first']\n",
    "better_rating = two_reviews['stars_second'] > two_reviews['stars_first']\n",
    "second_better_rating = two_reviews[second_rating & \\\n",
    "                                   better_rating][['rID','mID']]\n",
    "second_better_rating.merge(Reviewer, on='rID')\\\n",
    "                    .merge(Movie[['mID','title']], on='mID')"
   ]
  },
  {
   "cell_type": "code",
   "execution_count": 397,
   "metadata": {
    "collapsed": false
   },
   "outputs": [
    {
     "data": {
      "text/html": [
       "<div>\n",
       "<table border=\"1\" class=\"dataframe\">\n",
       "  <thead>\n",
       "    <tr style=\"text-align: right;\">\n",
       "      <th></th>\n",
       "      <th>mID</th>\n",
       "      <th>stars</th>\n",
       "      <th>title</th>\n",
       "    </tr>\n",
       "  </thead>\n",
       "  <tbody>\n",
       "    <tr>\n",
       "      <th>4</th>\n",
       "      <td>107</td>\n",
       "      <td>5</td>\n",
       "      <td>Avator</td>\n",
       "    </tr>\n",
       "    <tr>\n",
       "      <th>2</th>\n",
       "      <td>104</td>\n",
       "      <td>3</td>\n",
       "      <td>E.T.</td>\n",
       "    </tr>\n",
       "    <tr>\n",
       "      <th>0</th>\n",
       "      <td>101</td>\n",
       "      <td>4</td>\n",
       "      <td>Gone with the wind</td>\n",
       "    </tr>\n",
       "    <tr>\n",
       "      <th>5</th>\n",
       "      <td>108</td>\n",
       "      <td>4</td>\n",
       "      <td>Raiders of the Lost Ark</td>\n",
       "    </tr>\n",
       "    <tr>\n",
       "      <th>3</th>\n",
       "      <td>106</td>\n",
       "      <td>5</td>\n",
       "      <td>Snow White</td>\n",
       "    </tr>\n",
       "    <tr>\n",
       "      <th>1</th>\n",
       "      <td>103</td>\n",
       "      <td>3</td>\n",
       "      <td>The Sound of Music</td>\n",
       "    </tr>\n",
       "  </tbody>\n",
       "</table>\n",
       "</div>"
      ],
      "text/plain": [
       "   mID  stars                    title\n",
       "4  107      5                   Avator\n",
       "2  104      3                     E.T.\n",
       "0  101      4       Gone with the wind\n",
       "5  108      4  Raiders of the Lost Ark\n",
       "3  106      5               Snow White\n",
       "1  103      3       The Sound of Music"
      ]
     },
     "execution_count": 397,
     "metadata": {},
     "output_type": "execute_result"
    }
   ],
   "source": [
    "# For each movie that has at least one rating, find the highest\n",
    "# number of stars that movie received. Return the movie title \n",
    "# and number of stars. Sort by movie title.\n",
    "max_rating_per_movie = Rating.groupby('mID').agg({'stars':max}).reset_index()\n",
    "max_rating_per_movie.merge(Movie[['mID','title']], on='mID')\\\n",
    "                    .sort_values(by='title')"
   ]
  },
  {
   "cell_type": "code",
   "execution_count": 390,
   "metadata": {
    "collapsed": false
   },
   "outputs": [
    {
     "data": {
      "text/html": [
       "<div>\n",
       "<table border=\"1\" class=\"dataframe\">\n",
       "  <thead>\n",
       "    <tr style=\"text-align: right;\">\n",
       "      <th></th>\n",
       "      <th>mID</th>\n",
       "      <th>spread</th>\n",
       "      <th>title</th>\n",
       "    </tr>\n",
       "  </thead>\n",
       "  <tbody>\n",
       "    <tr>\n",
       "      <th>0</th>\n",
       "      <td>101</td>\n",
       "      <td>2</td>\n",
       "      <td>Gone with the wind</td>\n",
       "    </tr>\n",
       "    <tr>\n",
       "      <th>4</th>\n",
       "      <td>107</td>\n",
       "      <td>2</td>\n",
       "      <td>Avator</td>\n",
       "    </tr>\n",
       "    <tr>\n",
       "      <th>5</th>\n",
       "      <td>108</td>\n",
       "      <td>2</td>\n",
       "      <td>Raiders of the Lost Ark</td>\n",
       "    </tr>\n",
       "    <tr>\n",
       "      <th>1</th>\n",
       "      <td>103</td>\n",
       "      <td>1</td>\n",
       "      <td>The Sound of Music</td>\n",
       "    </tr>\n",
       "    <tr>\n",
       "      <th>2</th>\n",
       "      <td>104</td>\n",
       "      <td>1</td>\n",
       "      <td>E.T.</td>\n",
       "    </tr>\n",
       "    <tr>\n",
       "      <th>3</th>\n",
       "      <td>106</td>\n",
       "      <td>1</td>\n",
       "      <td>Snow White</td>\n",
       "    </tr>\n",
       "  </tbody>\n",
       "</table>\n",
       "</div>"
      ],
      "text/plain": [
       "   mID  spread                    title\n",
       "0  101       2       Gone with the wind\n",
       "4  107       2                   Avator\n",
       "5  108       2  Raiders of the Lost Ark\n",
       "1  103       1       The Sound of Music\n",
       "2  104       1                     E.T.\n",
       "3  106       1               Snow White"
      ]
     },
     "execution_count": 390,
     "metadata": {},
     "output_type": "execute_result"
    }
   ],
   "source": [
    "# For each movie, return the title and the 'rating spread',\n",
    "# that is, the difference between highest and lowest ratings \n",
    "# given to that movie. Sort by rating spread from highest to\n",
    "# lowest, then by movie title. \n",
    "def find_rating_diff(g):\n",
    "    return g.max() - g.min()\n",
    "rating_spread = Rating.groupby('mID').agg({'stars':find_rating_diff})\\\n",
    "                                     .reset_index()\\\n",
    "                                     .rename(columns={'stars':'spread'})\n",
    "pd.merge(rating_spread, Movie[['mID', 'title']]).sort_values(by='spread', ascending=False)"
   ]
  },
  {
   "cell_type": "code",
   "execution_count": 431,
   "metadata": {
    "collapsed": false
   },
   "outputs": [
    {
     "data": {
      "text/plain": [
       "0.055555555555555358"
      ]
     },
     "execution_count": 431,
     "metadata": {},
     "output_type": "execute_result"
    }
   ],
   "source": [
    "# Find the difference between the average rating of movies\n",
    "# released before 1980 and the average rating of movies \n",
    "# released after 1980. (Make sure to calculate the average\n",
    "# rating for each movie, then the average of those averages \n",
    "# for movies before 1980 and movies after. Don't just calculate\n",
    "# the overall average rating before and after 1980.)\n",
    "\n",
    "# Find the average rating for each movie\n",
    "avg_rating = Rating.groupby('mID').agg({'stars': np.mean}).reset_index()\n",
    "avg_rating = avg_rating.merge(Movie[['mID', 'year']], on='mID')\n",
    "avg_rating['after_1980'] = (avg_rating['year'] > 1980)\n",
    "avg_rating_before_after = avg_rating.groupby('after_1980').agg({'stars': np.mean})\n",
    "abs(avg_rating_before_after['stars'][1] - avg_rating_before_after['stars'][0])"
   ]
  },
  {
   "cell_type": "code",
   "execution_count": 434,
   "metadata": {
    "collapsed": false
   },
   "outputs": [
    {
     "data": {
      "text/html": [
       "<div>\n",
       "<table border=\"1\" class=\"dataframe\">\n",
       "  <thead>\n",
       "    <tr style=\"text-align: right;\">\n",
       "      <th></th>\n",
       "      <th>rID</th>\n",
       "      <th>mID</th>\n",
       "      <th>title</th>\n",
       "      <th>name</th>\n",
       "    </tr>\n",
       "  </thead>\n",
       "  <tbody>\n",
       "    <tr>\n",
       "      <th>0</th>\n",
       "      <td>201</td>\n",
       "      <td>101</td>\n",
       "      <td>Gone with the Wind</td>\n",
       "      <td>Sarah Martinez</td>\n",
       "    </tr>\n",
       "    <tr>\n",
       "      <th>1</th>\n",
       "      <td>201</td>\n",
       "      <td>101</td>\n",
       "      <td>Gone with the Wind</td>\n",
       "      <td>Sarah Martinez</td>\n",
       "    </tr>\n",
       "    <tr>\n",
       "      <th>2</th>\n",
       "      <td>204</td>\n",
       "      <td>101</td>\n",
       "      <td>Gone with the Wind</td>\n",
       "      <td>Mike Anderson</td>\n",
       "    </tr>\n",
       "  </tbody>\n",
       "</table>\n",
       "</div>"
      ],
      "text/plain": [
       "   rID  mID               title            name\n",
       "0  201  101  Gone with the Wind  Sarah Martinez\n",
       "1  201  101  Gone with the Wind  Sarah Martinez\n",
       "2  204  101  Gone with the Wind   Mike Anderson"
      ]
     },
     "execution_count": 434,
     "metadata": {},
     "output_type": "execute_result"
    }
   ],
   "source": [
    "# Find the names of all reviewers who rated Gone with the Wind. \n",
    "gone_with_wind = Movie['title'] == 'Gone with the Wind'\n",
    "movie_ratings = pd.merge(Rating[['rID','mID']], Movie.loc[gone_with_wind, ['mID', 'title']])\n",
    "movie_ratings.merge(Reviewer)"
   ]
  },
  {
   "cell_type": "code",
   "execution_count": 435,
   "metadata": {
    "collapsed": false
   },
   "outputs": [
    {
     "data": {
      "text/html": [
       "<div>\n",
       "<table border=\"1\" class=\"dataframe\">\n",
       "  <thead>\n",
       "    <tr style=\"text-align: right;\">\n",
       "      <th></th>\n",
       "      <th>name</th>\n",
       "      <th>title</th>\n",
       "      <th>stars</th>\n",
       "    </tr>\n",
       "  </thead>\n",
       "  <tbody>\n",
       "    <tr>\n",
       "      <th>13</th>\n",
       "      <td>James Cameron</td>\n",
       "      <td>Avator</td>\n",
       "      <td>5</td>\n",
       "    </tr>\n",
       "  </tbody>\n",
       "</table>\n",
       "</div>"
      ],
      "text/plain": [
       "             name   title  stars\n",
       "13  James Cameron  Avator      5"
      ]
     },
     "execution_count": 435,
     "metadata": {},
     "output_type": "execute_result"
    }
   ],
   "source": [
    "# For any rating where the reviewer is the same as the director\n",
    "# of the movie, return the reviewer name, movie title, and number\n",
    "# of stars. \n",
    "movie_rating = pd.merge(Movie[['mID','title','director']], Rating[['rID','mID','stars']])\n",
    "movie_rating_reviewer = movie_rating.merge(Reviewer)\n",
    "director_reviewed = movie_rating_reviewer['director'] == movie_rating_reviewer['name']\n",
    "movie_rating_reviewer.loc[director_reviewed, ['name','title','stars']]"
   ]
  },
  {
   "cell_type": "code",
   "execution_count": 438,
   "metadata": {
    "collapsed": false
   },
   "outputs": [
    {
     "data": {
      "text/plain": [
       "['Ashley White',\n",
       " 'Brittany Harris',\n",
       " 'Chris Jackson',\n",
       " 'Daniel Lewis',\n",
       " 'Elizabeth Thomas',\n",
       " 'James Cameron',\n",
       " 'Mike Anderson',\n",
       " 'Sarah Martinez',\n",
       " 'Avator',\n",
       " 'E.T.',\n",
       " 'Gone with the Wind',\n",
       " 'Raiders of the Lost Ark',\n",
       " 'Snow White',\n",
       " 'Star Wars',\n",
       " 'The Sound of Music',\n",
       " 'Titanic']"
      ]
     },
     "execution_count": 438,
     "metadata": {},
     "output_type": "execute_result"
    }
   ],
   "source": [
    "# Return all reviewer names and movie names together in a single list\n",
    "# , alphabetized. (Sorting by the first name of the reviewer and first\n",
    "# word in the title is fine; no need for special processing on last \n",
    "# names or removing \"The\".) \n",
    "reviewers = sorted(Reviewer['name'].tolist())\n",
    "titles = sorted(Movie['title'].tolist())\n",
    "reviewers + titles\n"
   ]
  },
  {
   "cell_type": "code",
   "execution_count": 453,
   "metadata": {
    "collapsed": false
   },
   "outputs": [
    {
     "data": {
      "text/html": [
       "<div>\n",
       "<table border=\"1\" class=\"dataframe\">\n",
       "  <thead>\n",
       "    <tr style=\"text-align: right;\">\n",
       "      <th></th>\n",
       "      <th>title</th>\n",
       "    </tr>\n",
       "  </thead>\n",
       "  <tbody>\n",
       "    <tr>\n",
       "      <th>0</th>\n",
       "      <td>Gone with the Wind</td>\n",
       "    </tr>\n",
       "    <tr>\n",
       "      <th>1</th>\n",
       "      <td>Star Wars</td>\n",
       "    </tr>\n",
       "    <tr>\n",
       "      <th>4</th>\n",
       "      <td>Titanic</td>\n",
       "    </tr>\n",
       "    <tr>\n",
       "      <th>5</th>\n",
       "      <td>Snow White</td>\n",
       "    </tr>\n",
       "    <tr>\n",
       "      <th>6</th>\n",
       "      <td>Avator</td>\n",
       "    </tr>\n",
       "  </tbody>\n",
       "</table>\n",
       "</div>"
      ],
      "text/plain": [
       "                title\n",
       "0  Gone with the Wind\n",
       "1           Star Wars\n",
       "4             Titanic\n",
       "5          Snow White\n",
       "6              Avator"
      ]
     },
     "execution_count": 453,
     "metadata": {},
     "output_type": "execute_result"
    }
   ],
   "source": [
    "# Find the titles of all movies not reviewed by Chris Jackson. \n",
    "chris_id = Reviewer[Reviewer['name']=='Chris Jackson']['rID'].values[0]\n",
    "chris_rated_movies = Rating[Rating['rID']==chris_id]['mID'].values\n",
    "Movie.loc[~Movie['mID'].isin(chris_rated_movies), ['title']]"
   ]
  },
  {
   "cell_type": "code",
   "execution_count": 16,
   "metadata": {
    "collapsed": false
   },
   "outputs": [
    {
     "data": {
      "text/html": [
       "<div>\n",
       "<table border=\"1\" class=\"dataframe\">\n",
       "  <thead>\n",
       "    <tr style=\"text-align: right;\">\n",
       "      <th></th>\n",
       "      <th>name_first_rev</th>\n",
       "      <th>name_second_rev</th>\n",
       "    </tr>\n",
       "  </thead>\n",
       "  <tbody>\n",
       "    <tr>\n",
       "      <th>3</th>\n",
       "      <td>Ashley White</td>\n",
       "      <td>Chris Jackson</td>\n",
       "    </tr>\n",
       "    <tr>\n",
       "      <th>2</th>\n",
       "      <td>Chris Jackson</td>\n",
       "      <td>Brittany Harris</td>\n",
       "    </tr>\n",
       "    <tr>\n",
       "      <th>1</th>\n",
       "      <td>Elizabeth Thomas</td>\n",
       "      <td>Daniel Lewis</td>\n",
       "    </tr>\n",
       "    <tr>\n",
       "      <th>4</th>\n",
       "      <td>James Cameron</td>\n",
       "      <td>Elizabeth Thomas</td>\n",
       "    </tr>\n",
       "    <tr>\n",
       "      <th>0</th>\n",
       "      <td>Mike Anderson</td>\n",
       "      <td>Sarah Martinez</td>\n",
       "    </tr>\n",
       "  </tbody>\n",
       "</table>\n",
       "</div>"
      ],
      "text/plain": [
       "     name_first_rev   name_second_rev\n",
       "3      Ashley White     Chris Jackson\n",
       "2     Chris Jackson   Brittany Harris\n",
       "1  Elizabeth Thomas      Daniel Lewis\n",
       "4     James Cameron  Elizabeth Thomas\n",
       "0     Mike Anderson    Sarah Martinez"
      ]
     },
     "execution_count": 16,
     "metadata": {},
     "output_type": "execute_result"
    }
   ],
   "source": [
    "# For all pairs of reviewers such that both reviewers gave a \n",
    "# rating to the same movie, return the names of both reviewers. \n",
    "# Eliminate duplicates, don't pair reviewers with themselves, \n",
    "# and include each pair only once. For each pair, return the \n",
    "# names in the pair in alphabetical order.\n",
    "ids = ['rID','mID']\n",
    "rated_same_movie = pd.merge(Rating[ids], Rating[ids], on='mID', suffixes=('_first', '_second'))\n",
    "different_reviewers = rated_same_movie['rID_first'] > rated_same_movie['rID_second']\n",
    "rated_same_movie = rated_same_movie[different_reviewers]\n",
    "rated_same_movie.drop_duplicates(inplace=True, subset=['rID_first', 'rID_second'])\n",
    "rated_same_movie = rated_same_movie.merge(Reviewer, left_on='rID_first', right_on='rID')[['name','rID_second']]\n",
    "rated_same_movie = rated_same_movie.merge(Reviewer, left_on='rID_second', right_on='rID', \n",
    "                                          suffixes=('_first_rev', '_second_rev'))[['name_first_rev',\n",
    "                                                                                   'name_second_rev']]\n",
    "rated_same_movie.sort_values(by=['name_first_rev',\n",
    "                                 'name_second_rev'])"
   ]
  },
  {
   "cell_type": "code",
   "execution_count": 500,
   "metadata": {
    "collapsed": false
   },
   "outputs": [
    {
     "data": {
      "text/html": [
       "<div>\n",
       "<table border=\"1\" class=\"dataframe\">\n",
       "  <thead>\n",
       "    <tr style=\"text-align: right;\">\n",
       "      <th></th>\n",
       "      <th>title</th>\n",
       "      <th>name</th>\n",
       "      <th>stars</th>\n",
       "    </tr>\n",
       "  </thead>\n",
       "  <tbody>\n",
       "    <tr>\n",
       "      <th>0</th>\n",
       "      <td>Gone with the Wind</td>\n",
       "      <td>Sarah Martinez</td>\n",
       "      <td>2</td>\n",
       "    </tr>\n",
       "    <tr>\n",
       "      <th>1</th>\n",
       "      <td>The Sound of Music</td>\n",
       "      <td>Brittany Harris</td>\n",
       "      <td>2</td>\n",
       "    </tr>\n",
       "    <tr>\n",
       "      <th>2</th>\n",
       "      <td>Raiders of the Lost Ark</td>\n",
       "      <td>Brittany Harris</td>\n",
       "      <td>2</td>\n",
       "    </tr>\n",
       "    <tr>\n",
       "      <th>3</th>\n",
       "      <td>E.T.</td>\n",
       "      <td>Chris Jackson</td>\n",
       "      <td>2</td>\n",
       "    </tr>\n",
       "  </tbody>\n",
       "</table>\n",
       "</div>"
      ],
      "text/plain": [
       "                     title             name  stars\n",
       "0       Gone with the Wind   Sarah Martinez      2\n",
       "1       The Sound of Music  Brittany Harris      2\n",
       "2  Raiders of the Lost Ark  Brittany Harris      2\n",
       "3                     E.T.    Chris Jackson      2"
      ]
     },
     "execution_count": 500,
     "metadata": {},
     "output_type": "execute_result"
    }
   ],
   "source": [
    "# For each rating that is the lowest (fewest stars) currently\n",
    "# in the database, return the reviewer name, movie title, and \n",
    "# number of stars. \n",
    "min_star = Rating['stars'].min()\n",
    "min_rated_movies = Rating.loc[Rating['stars'] == min_star, ['rID','mID', 'stars']]\n",
    "min_rated_movies.merge(Reviewer)\\\n",
    "                .merge(Movie[['mID', 'title']])[['title','name','stars']]"
   ]
  },
  {
   "cell_type": "code",
   "execution_count": 505,
   "metadata": {
    "collapsed": false
   },
   "outputs": [
    {
     "data": {
      "text/html": [
       "<div>\n",
       "<table border=\"1\" class=\"dataframe\">\n",
       "  <thead>\n",
       "    <tr style=\"text-align: right;\">\n",
       "      <th></th>\n",
       "      <th>avg_stars</th>\n",
       "      <th>title</th>\n",
       "    </tr>\n",
       "  </thead>\n",
       "  <tbody>\n",
       "    <tr>\n",
       "      <th>2</th>\n",
       "      <td>2.500000</td>\n",
       "      <td>E.T.</td>\n",
       "    </tr>\n",
       "    <tr>\n",
       "      <th>1</th>\n",
       "      <td>2.500000</td>\n",
       "      <td>The Sound of Music</td>\n",
       "    </tr>\n",
       "    <tr>\n",
       "      <th>0</th>\n",
       "      <td>3.000000</td>\n",
       "      <td>Gone with the Wind</td>\n",
       "    </tr>\n",
       "    <tr>\n",
       "      <th>5</th>\n",
       "      <td>3.333333</td>\n",
       "      <td>Raiders of the Lost Ark</td>\n",
       "    </tr>\n",
       "    <tr>\n",
       "      <th>4</th>\n",
       "      <td>4.000000</td>\n",
       "      <td>Avator</td>\n",
       "    </tr>\n",
       "    <tr>\n",
       "      <th>3</th>\n",
       "      <td>4.500000</td>\n",
       "      <td>Snow White</td>\n",
       "    </tr>\n",
       "  </tbody>\n",
       "</table>\n",
       "</div>"
      ],
      "text/plain": [
       "   avg_stars                    title\n",
       "2   2.500000                     E.T.\n",
       "1   2.500000       The Sound of Music\n",
       "0   3.000000       Gone with the Wind\n",
       "5   3.333333  Raiders of the Lost Ark\n",
       "4   4.000000                   Avator\n",
       "3   4.500000               Snow White"
      ]
     },
     "execution_count": 505,
     "metadata": {},
     "output_type": "execute_result"
    }
   ],
   "source": [
    "# List movie titles and average ratings, from highest-rated\n",
    "# to lowest-rated. If two or more movies have the same average \n",
    "# rating, list them in alphabetical order. \n",
    "in_cols=['mID','stars']\n",
    "avg_rating = Rating[in_cols].groupby('mID') \\\n",
    "                            .agg({'stars':np.mean})\\\n",
    "                            .rename(columns={'stars':'avg_stars'})\\\n",
    "                            .reset_index()\n",
    "out_cols = ['avg_stars','title']\n",
    "avg_rating.merge(Movie[['mID','title']]).sort_values(by=out_cols)[out_cols]"
   ]
  },
  {
   "cell_type": "code",
   "execution_count": 37,
   "metadata": {
    "collapsed": false
   },
   "outputs": [
    {
     "data": {
      "text/html": [
       "<div>\n",
       "<table border=\"1\" class=\"dataframe\">\n",
       "  <thead>\n",
       "    <tr style=\"text-align: right;\">\n",
       "      <th></th>\n",
       "      <th>name</th>\n",
       "    </tr>\n",
       "  </thead>\n",
       "  <tbody>\n",
       "    <tr>\n",
       "      <th>0</th>\n",
       "      <td>Brittany Harris</td>\n",
       "    </tr>\n",
       "    <tr>\n",
       "      <th>1</th>\n",
       "      <td>Chris Jackson</td>\n",
       "    </tr>\n",
       "  </tbody>\n",
       "</table>\n",
       "</div>"
      ],
      "text/plain": [
       "              name\n",
       "0  Brittany Harris\n",
       "1    Chris Jackson"
      ]
     },
     "execution_count": 37,
     "metadata": {},
     "output_type": "execute_result"
    }
   ],
   "source": [
    "# Find the names of all reviewers who have contributed three or more ratings.\n",
    "in_cols = ['rID','stars']\n",
    "num_ratings = Rating[in_cols].groupby('rID').agg({'stars':'count'}).reset_index()\n",
    "more_rated = num_ratings[num_ratings['stars']>2]\n",
    "more_rated.merge(Reviewer)[['name']]"
   ]
  },
  {
   "cell_type": "code",
   "execution_count": 39,
   "metadata": {
    "collapsed": false
   },
   "outputs": [
    {
     "data": {
      "text/html": [
       "<div>\n",
       "<table border=\"1\" class=\"dataframe\">\n",
       "  <thead>\n",
       "    <tr style=\"text-align: right;\">\n",
       "      <th></th>\n",
       "      <th>title</th>\n",
       "      <th>director</th>\n",
       "    </tr>\n",
       "  </thead>\n",
       "  <tbody>\n",
       "    <tr>\n",
       "      <th>3</th>\n",
       "      <td>E.T.</td>\n",
       "      <td>Steven Spielberg</td>\n",
       "    </tr>\n",
       "    <tr>\n",
       "      <th>4</th>\n",
       "      <td>Titanic</td>\n",
       "      <td>James Cameron</td>\n",
       "    </tr>\n",
       "    <tr>\n",
       "      <th>6</th>\n",
       "      <td>Avator</td>\n",
       "      <td>James Cameron</td>\n",
       "    </tr>\n",
       "    <tr>\n",
       "      <th>7</th>\n",
       "      <td>Raiders of the Lost Ark</td>\n",
       "      <td>Steven Spielberg</td>\n",
       "    </tr>\n",
       "  </tbody>\n",
       "</table>\n",
       "</div>"
      ],
      "text/plain": [
       "                     title          director\n",
       "3                     E.T.  Steven Spielberg\n",
       "4                  Titanic     James Cameron\n",
       "6                   Avator     James Cameron\n",
       "7  Raiders of the Lost Ark  Steven Spielberg"
      ]
     },
     "execution_count": 39,
     "metadata": {},
     "output_type": "execute_result"
    }
   ],
   "source": [
    "# Some directors directed more than one movie. For all such directors,\n",
    "# return the titles of all movies directed by them, along with the \n",
    "# director name. Sort by director name, then movie title.\n",
    "input_cols = ['title', 'director']\n",
    "Movie[input_cols].groupby('director').filter(lambda g: len(g)>1)"
   ]
  },
  {
   "cell_type": "code",
   "execution_count": 42,
   "metadata": {
    "collapsed": false
   },
   "outputs": [
    {
     "data": {
      "text/html": [
       "<div>\n",
       "<table border=\"1\" class=\"dataframe\">\n",
       "  <thead>\n",
       "    <tr style=\"text-align: right;\">\n",
       "      <th></th>\n",
       "      <th>avg_stars</th>\n",
       "      <th>title</th>\n",
       "    </tr>\n",
       "  </thead>\n",
       "  <tbody>\n",
       "    <tr>\n",
       "      <th>0</th>\n",
       "      <td>4.5</td>\n",
       "      <td>Snow White</td>\n",
       "    </tr>\n",
       "  </tbody>\n",
       "</table>\n",
       "</div>"
      ],
      "text/plain": [
       "   avg_stars       title\n",
       "0        4.5  Snow White"
      ]
     },
     "execution_count": 42,
     "metadata": {},
     "output_type": "execute_result"
    }
   ],
   "source": [
    "# Find the movie(s) with the highest average rating. Return the movie\n",
    "# title(s) and average rating. (Hint: This query is more difficult to\n",
    "# write in SQLite than other systems; you might think of it as finding\n",
    "# the highest average rating and then choosing the movie(s) with that \n",
    "# average rating.) \n",
    "movie_avg_rating = Rating.groupby('mID')\\\n",
    "                         .agg({'stars':np.mean})\\\n",
    "                         .reset_index()\\\n",
    "                         .rename(columns=({'stars':'avg_stars'}))\n",
    "max_avg_stars = movie_avg_rating['avg_stars'].max()\n",
    "movie_max_avg_rating = movie_avg_rating[movie_avg_rating['avg_stars']==max_avg_stars]\n",
    "out_cols=['avg_stars','title']\n",
    "movie_max_avg_rating.merge(Movie[['mID', 'title']])[out_cols]"
   ]
  },
  {
   "cell_type": "code",
   "execution_count": 46,
   "metadata": {
    "collapsed": false
   },
   "outputs": [
    {
     "data": {
      "text/html": [
       "<div>\n",
       "<table border=\"1\" class=\"dataframe\">\n",
       "  <thead>\n",
       "    <tr style=\"text-align: right;\">\n",
       "      <th></th>\n",
       "      <th>title</th>\n",
       "      <th>avg_stars</th>\n",
       "    </tr>\n",
       "  </thead>\n",
       "  <tbody>\n",
       "    <tr>\n",
       "      <th>0</th>\n",
       "      <td>The Sound of Music</td>\n",
       "      <td>2.5</td>\n",
       "    </tr>\n",
       "    <tr>\n",
       "      <th>1</th>\n",
       "      <td>E.T.</td>\n",
       "      <td>2.5</td>\n",
       "    </tr>\n",
       "  </tbody>\n",
       "</table>\n",
       "</div>"
      ],
      "text/plain": [
       "                title  avg_stars\n",
       "0  The Sound of Music        2.5\n",
       "1                E.T.        2.5"
      ]
     },
     "execution_count": 46,
     "metadata": {},
     "output_type": "execute_result"
    }
   ],
   "source": [
    "# Find the movie(s) with the lowest average rating. Return the movie\n",
    "# title(s) and average rating. (Hint: This query may be more difficult\n",
    "# to write in SQLite than other systems; you might think of it as finding\n",
    "# the lowest average rating and then choosing the movie(s) with that\n",
    "# average rating.) \n",
    "movie_avg_rating = Rating.groupby('mID')\\\n",
    "                         .agg({'stars':np.mean})\\\n",
    "                         .reset_index()\\\n",
    "                         .rename(columns=({'stars':'avg_stars'}))\n",
    "min_avg_stars = movie_avg_rating['avg_stars'].min()\n",
    "movie_min_avg_rating = movie_avg_rating[movie_avg_rating['avg_stars'] == min_avg_stars]\n",
    "out_cols = ['title', 'avg_stars']\n",
    "movie_min_avg_rating.merge(Movie[['mID','title']])[out_cols]"
   ]
  },
  {
   "cell_type": "code",
   "execution_count": 19,
   "metadata": {
    "collapsed": false
   },
   "outputs": [
    {
     "data": {
      "text/html": [
       "<div>\n",
       "<table border=\"1\" class=\"dataframe\">\n",
       "  <thead>\n",
       "    <tr style=\"text-align: right;\">\n",
       "      <th></th>\n",
       "      <th>director</th>\n",
       "      <th>title</th>\n",
       "    </tr>\n",
       "  </thead>\n",
       "  <tbody>\n",
       "    <tr>\n",
       "      <th>0</th>\n",
       "      <td>James Cameron</td>\n",
       "      <td>Avator</td>\n",
       "    </tr>\n",
       "    <tr>\n",
       "      <th>1</th>\n",
       "      <td>Robert Wise</td>\n",
       "      <td>The Sound of Music</td>\n",
       "    </tr>\n",
       "    <tr>\n",
       "      <th>2</th>\n",
       "      <td>Steven Spielberg</td>\n",
       "      <td>Raiders of the Lost Ark</td>\n",
       "    </tr>\n",
       "    <tr>\n",
       "      <th>4</th>\n",
       "      <td>Victor Fleming</td>\n",
       "      <td>Gone with the Wind</td>\n",
       "    </tr>\n",
       "  </tbody>\n",
       "</table>\n",
       "</div>"
      ],
      "text/plain": [
       "           director                    title\n",
       "0     James Cameron                   Avator\n",
       "1       Robert Wise       The Sound of Music\n",
       "2  Steven Spielberg  Raiders of the Lost Ark\n",
       "4    Victor Fleming       Gone with the Wind"
      ]
     },
     "execution_count": 19,
     "metadata": {},
     "output_type": "execute_result"
    }
   ],
   "source": [
    "# For each director, return the director's name together with\n",
    "# the title(s) of the movie(s) they directed that received \n",
    "# the highest rating among all of their movies, and the value\n",
    "# of that rating. Ignore movies whose director is NULL. \n",
    "input_cols = ['title', 'director', 'stars', 'mID']\n",
    "movie_rating = pd.merge(Movie[['mID','director', 'title']], Rating[['mID','stars']])[input_cols]\n",
    "max_rating_per_direcotr = movie_rating.groupby('director')\\\n",
    "                                      .agg({'stars':max})\\\n",
    "                                      .reset_index()\n",
    "out_cols = ['director','title']\n",
    "max_rating_per_direcotr.merge(movie_rating, on=['director', 'stars'])\\\n",
    "                       .drop_duplicates(subset='mID')[out_cols]"
   ]
  },
  {
   "cell_type": "code",
   "execution_count": null,
   "metadata": {
    "collapsed": false
   },
   "outputs": [],
   "source": []
  },
  {
   "cell_type": "code",
   "execution_count": null,
   "metadata": {
    "collapsed": true
   },
   "outputs": [],
   "source": []
  }
 ],
 "metadata": {
  "anaconda-cloud": {},
  "kernelspec": {
   "display_name": "Python [default]",
   "language": "python",
   "name": "python2"
  },
  "language_info": {
   "codemirror_mode": {
    "name": "ipython",
    "version": 2
   },
   "file_extension": ".py",
   "mimetype": "text/x-python",
   "name": "python",
   "nbconvert_exporter": "python",
   "pygments_lexer": "ipython2",
   "version": "2.7.12"
  }
 },
 "nbformat": 4,
 "nbformat_minor": 1
}
